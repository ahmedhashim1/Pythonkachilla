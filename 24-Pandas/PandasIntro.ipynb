{
 "cells": [
  {
   "cell_type": "code",
   "execution_count": 30,
   "outputs": [],
   "source": [
    "import pandas as pd\n",
    "import numpy as np"
   ],
   "metadata": {
    "collapsed": false,
    "pycharm": {
     "name": "#%%\n"
    }
   }
  },
  {
   "cell_type": "code",
   "execution_count": 31,
   "outputs": [
    {
     "data": {
      "text/plain": "0    1.0\n1    2.0\n2    3.0\n3    NaN\n4    4.0\n5    5.0\n6    6.0\n7    7.0\n8    8.0\n9    9.0\ndtype: float64"
     },
     "execution_count": 31,
     "metadata": {},
     "output_type": "execute_result"
    }
   ],
   "source": [
    "#Object creation\n",
    "s = pd.Series([1,2,3,np.nan,4,5,6,7,8,9])\n",
    "s"
   ],
   "metadata": {
    "collapsed": false,
    "pycharm": {
     "name": "#%%\n"
    }
   }
  },
  {
   "cell_type": "code",
   "execution_count": 32,
   "outputs": [
    {
     "data": {
      "text/plain": "DatetimeIndex(['2023-01-01', '2023-01-02', '2023-01-03', '2023-01-04',\n               '2023-01-05', '2023-01-06', '2023-01-07', '2023-01-08',\n               '2023-01-09', '2023-01-10', '2023-01-11', '2023-01-12',\n               '2023-01-13', '2023-01-14', '2023-01-15', '2023-01-16',\n               '2023-01-17', '2023-01-18', '2023-01-19', '2023-01-20',\n               '2023-01-21', '2023-01-22', '2023-01-23', '2023-01-24',\n               '2023-01-25', '2023-01-26', '2023-01-27', '2023-01-28',\n               '2023-01-29', '2023-01-30'],\n              dtype='datetime64[ns]', freq='D')"
     },
     "execution_count": 32,
     "metadata": {},
     "output_type": "execute_result"
    }
   ],
   "source": [
    "dates = pd.date_range('20230101', periods=30)\n",
    "dates"
   ],
   "metadata": {
    "collapsed": false,
    "pycharm": {
     "name": "#%%\n"
    }
   }
  },
  {
   "cell_type": "code",
   "execution_count": 33,
   "outputs": [
    {
     "data": {
      "text/plain": "                   A         B         C         D\n2023-01-01 -0.882984  0.492571 -1.052183  0.002512\n2023-01-02  1.047020  0.739305 -1.194248 -0.681416\n2023-01-03  0.508919  1.617742 -0.460865  2.584497\n2023-01-04 -0.801649  0.131898  0.772547 -0.388101\n2023-01-05 -0.513948 -1.528296  0.858368 -0.470824\n2023-01-06 -0.204313  0.050675 -0.827056 -0.088165\n2023-01-07 -1.177268  1.107909  0.361844 -1.292428\n2023-01-08  0.848492 -1.471600 -1.722289  0.518982\n2023-01-09  2.274555 -0.849919  0.079231 -0.462911\n2023-01-10 -0.698696  1.774935 -0.795400 -0.165599\n2023-01-11 -0.397225 -0.705440 -0.670563  0.683139\n2023-01-12 -0.745329 -0.133100 -0.698459 -0.214659\n2023-01-13 -0.210038  1.595001 -1.069953  0.005108\n2023-01-14 -0.912284 -1.742425  0.661786 -0.087189\n2023-01-15  0.087768  1.115657  0.804005  0.207032\n2023-01-16 -1.180511  0.128649 -1.143905  0.546148\n2023-01-17 -0.431363 -1.133710  2.249220  0.036143\n2023-01-18  0.530775  0.149690 -0.004461 -1.786270\n2023-01-19 -0.575822 -2.150647  0.238443 -0.031255\n2023-01-20  1.234565  1.131698 -0.662072 -0.238713\n2023-01-21 -1.997427  0.953925 -0.066815  0.691014\n2023-01-22 -0.088016 -0.621893 -0.200423  1.826066\n2023-01-23 -0.673558  0.893967  1.808998 -0.169222\n2023-01-24  0.175554 -0.506150 -0.719203 -0.234602\n2023-01-25 -1.339656 -0.162980  0.326060  0.902816\n2023-01-26 -1.614238 -0.861238  0.509136  1.083919\n2023-01-27  0.790750 -0.323677  1.161295  0.325749\n2023-01-28  0.368501  0.082505  0.178071  1.750669\n2023-01-29  0.241534 -0.018960  0.185802 -0.205038\n2023-01-30 -0.323865  0.108125 -0.352725 -0.160106",
      "text/html": "<div>\n<style scoped>\n    .dataframe tbody tr th:only-of-type {\n        vertical-align: middle;\n    }\n\n    .dataframe tbody tr th {\n        vertical-align: top;\n    }\n\n    .dataframe thead th {\n        text-align: right;\n    }\n</style>\n<table border=\"1\" class=\"dataframe\">\n  <thead>\n    <tr style=\"text-align: right;\">\n      <th></th>\n      <th>A</th>\n      <th>B</th>\n      <th>C</th>\n      <th>D</th>\n    </tr>\n  </thead>\n  <tbody>\n    <tr>\n      <th>2023-01-01</th>\n      <td>-0.882984</td>\n      <td>0.492571</td>\n      <td>-1.052183</td>\n      <td>0.002512</td>\n    </tr>\n    <tr>\n      <th>2023-01-02</th>\n      <td>1.047020</td>\n      <td>0.739305</td>\n      <td>-1.194248</td>\n      <td>-0.681416</td>\n    </tr>\n    <tr>\n      <th>2023-01-03</th>\n      <td>0.508919</td>\n      <td>1.617742</td>\n      <td>-0.460865</td>\n      <td>2.584497</td>\n    </tr>\n    <tr>\n      <th>2023-01-04</th>\n      <td>-0.801649</td>\n      <td>0.131898</td>\n      <td>0.772547</td>\n      <td>-0.388101</td>\n    </tr>\n    <tr>\n      <th>2023-01-05</th>\n      <td>-0.513948</td>\n      <td>-1.528296</td>\n      <td>0.858368</td>\n      <td>-0.470824</td>\n    </tr>\n    <tr>\n      <th>2023-01-06</th>\n      <td>-0.204313</td>\n      <td>0.050675</td>\n      <td>-0.827056</td>\n      <td>-0.088165</td>\n    </tr>\n    <tr>\n      <th>2023-01-07</th>\n      <td>-1.177268</td>\n      <td>1.107909</td>\n      <td>0.361844</td>\n      <td>-1.292428</td>\n    </tr>\n    <tr>\n      <th>2023-01-08</th>\n      <td>0.848492</td>\n      <td>-1.471600</td>\n      <td>-1.722289</td>\n      <td>0.518982</td>\n    </tr>\n    <tr>\n      <th>2023-01-09</th>\n      <td>2.274555</td>\n      <td>-0.849919</td>\n      <td>0.079231</td>\n      <td>-0.462911</td>\n    </tr>\n    <tr>\n      <th>2023-01-10</th>\n      <td>-0.698696</td>\n      <td>1.774935</td>\n      <td>-0.795400</td>\n      <td>-0.165599</td>\n    </tr>\n    <tr>\n      <th>2023-01-11</th>\n      <td>-0.397225</td>\n      <td>-0.705440</td>\n      <td>-0.670563</td>\n      <td>0.683139</td>\n    </tr>\n    <tr>\n      <th>2023-01-12</th>\n      <td>-0.745329</td>\n      <td>-0.133100</td>\n      <td>-0.698459</td>\n      <td>-0.214659</td>\n    </tr>\n    <tr>\n      <th>2023-01-13</th>\n      <td>-0.210038</td>\n      <td>1.595001</td>\n      <td>-1.069953</td>\n      <td>0.005108</td>\n    </tr>\n    <tr>\n      <th>2023-01-14</th>\n      <td>-0.912284</td>\n      <td>-1.742425</td>\n      <td>0.661786</td>\n      <td>-0.087189</td>\n    </tr>\n    <tr>\n      <th>2023-01-15</th>\n      <td>0.087768</td>\n      <td>1.115657</td>\n      <td>0.804005</td>\n      <td>0.207032</td>\n    </tr>\n    <tr>\n      <th>2023-01-16</th>\n      <td>-1.180511</td>\n      <td>0.128649</td>\n      <td>-1.143905</td>\n      <td>0.546148</td>\n    </tr>\n    <tr>\n      <th>2023-01-17</th>\n      <td>-0.431363</td>\n      <td>-1.133710</td>\n      <td>2.249220</td>\n      <td>0.036143</td>\n    </tr>\n    <tr>\n      <th>2023-01-18</th>\n      <td>0.530775</td>\n      <td>0.149690</td>\n      <td>-0.004461</td>\n      <td>-1.786270</td>\n    </tr>\n    <tr>\n      <th>2023-01-19</th>\n      <td>-0.575822</td>\n      <td>-2.150647</td>\n      <td>0.238443</td>\n      <td>-0.031255</td>\n    </tr>\n    <tr>\n      <th>2023-01-20</th>\n      <td>1.234565</td>\n      <td>1.131698</td>\n      <td>-0.662072</td>\n      <td>-0.238713</td>\n    </tr>\n    <tr>\n      <th>2023-01-21</th>\n      <td>-1.997427</td>\n      <td>0.953925</td>\n      <td>-0.066815</td>\n      <td>0.691014</td>\n    </tr>\n    <tr>\n      <th>2023-01-22</th>\n      <td>-0.088016</td>\n      <td>-0.621893</td>\n      <td>-0.200423</td>\n      <td>1.826066</td>\n    </tr>\n    <tr>\n      <th>2023-01-23</th>\n      <td>-0.673558</td>\n      <td>0.893967</td>\n      <td>1.808998</td>\n      <td>-0.169222</td>\n    </tr>\n    <tr>\n      <th>2023-01-24</th>\n      <td>0.175554</td>\n      <td>-0.506150</td>\n      <td>-0.719203</td>\n      <td>-0.234602</td>\n    </tr>\n    <tr>\n      <th>2023-01-25</th>\n      <td>-1.339656</td>\n      <td>-0.162980</td>\n      <td>0.326060</td>\n      <td>0.902816</td>\n    </tr>\n    <tr>\n      <th>2023-01-26</th>\n      <td>-1.614238</td>\n      <td>-0.861238</td>\n      <td>0.509136</td>\n      <td>1.083919</td>\n    </tr>\n    <tr>\n      <th>2023-01-27</th>\n      <td>0.790750</td>\n      <td>-0.323677</td>\n      <td>1.161295</td>\n      <td>0.325749</td>\n    </tr>\n    <tr>\n      <th>2023-01-28</th>\n      <td>0.368501</td>\n      <td>0.082505</td>\n      <td>0.178071</td>\n      <td>1.750669</td>\n    </tr>\n    <tr>\n      <th>2023-01-29</th>\n      <td>0.241534</td>\n      <td>-0.018960</td>\n      <td>0.185802</td>\n      <td>-0.205038</td>\n    </tr>\n    <tr>\n      <th>2023-01-30</th>\n      <td>-0.323865</td>\n      <td>0.108125</td>\n      <td>-0.352725</td>\n      <td>-0.160106</td>\n    </tr>\n  </tbody>\n</table>\n</div>"
     },
     "execution_count": 33,
     "metadata": {},
     "output_type": "execute_result"
    }
   ],
   "source": [
    "df = pd.DataFrame(np.random.randn(30,4), index=dates, columns=list(\"ABCD\"))\n",
    "df"
   ],
   "metadata": {
    "collapsed": false,
    "pycharm": {
     "name": "#%%\n"
    }
   }
  },
  {
   "cell_type": "code",
   "execution_count": 34,
   "outputs": [
    {
     "data": {
      "text/plain": "     A          B    C  D      E        F\n0  1.0 2023-03-14  1.0  3   girl  females\n1  1.0 2023-03-14  1.0  3  women  females\n2  1.0 2023-03-14  1.0  3   girl  females\n3  1.0 2023-03-14  1.0  3  women  females",
      "text/html": "<div>\n<style scoped>\n    .dataframe tbody tr th:only-of-type {\n        vertical-align: middle;\n    }\n\n    .dataframe tbody tr th {\n        vertical-align: top;\n    }\n\n    .dataframe thead th {\n        text-align: right;\n    }\n</style>\n<table border=\"1\" class=\"dataframe\">\n  <thead>\n    <tr style=\"text-align: right;\">\n      <th></th>\n      <th>A</th>\n      <th>B</th>\n      <th>C</th>\n      <th>D</th>\n      <th>E</th>\n      <th>F</th>\n    </tr>\n  </thead>\n  <tbody>\n    <tr>\n      <th>0</th>\n      <td>1.0</td>\n      <td>2023-03-14</td>\n      <td>1.0</td>\n      <td>3</td>\n      <td>girl</td>\n      <td>females</td>\n    </tr>\n    <tr>\n      <th>1</th>\n      <td>1.0</td>\n      <td>2023-03-14</td>\n      <td>1.0</td>\n      <td>3</td>\n      <td>women</td>\n      <td>females</td>\n    </tr>\n    <tr>\n      <th>2</th>\n      <td>1.0</td>\n      <td>2023-03-14</td>\n      <td>1.0</td>\n      <td>3</td>\n      <td>girl</td>\n      <td>females</td>\n    </tr>\n    <tr>\n      <th>3</th>\n      <td>1.0</td>\n      <td>2023-03-14</td>\n      <td>1.0</td>\n      <td>3</td>\n      <td>women</td>\n      <td>females</td>\n    </tr>\n  </tbody>\n</table>\n</div>"
     },
     "execution_count": 34,
     "metadata": {},
     "output_type": "execute_result"
    }
   ],
   "source": [
    "df2 = pd.DataFrame(\n",
    "    {\n",
    "        \"A\": 1.0,\n",
    "        \"B\": pd.Timestamp(\"2023-03-14\"),\n",
    "        \"C\": pd.Series(1, index=list(range(4)),dtype=\"float32\"),\n",
    "        \"D\": np.array([3]*4,dtype=\"int32\"),\n",
    "        \"E\": pd.Categorical([\"girl\", \"women\", \"girl\", \"women\"]),\n",
    "        \"F\": \"females\"\n",
    "    }\n",
    ")\n",
    "df2"
   ],
   "metadata": {
    "collapsed": false,
    "pycharm": {
     "name": "#%%\n"
    }
   }
  },
  {
   "cell_type": "code",
   "execution_count": 35,
   "outputs": [
    {
     "data": {
      "text/plain": "                   A         B         C         D\n2023-01-01 -0.882984  0.492571 -1.052183  0.002512\n2023-01-02  1.047020  0.739305 -1.194248 -0.681416\n2023-01-03  0.508919  1.617742 -0.460865  2.584497",
      "text/html": "<div>\n<style scoped>\n    .dataframe tbody tr th:only-of-type {\n        vertical-align: middle;\n    }\n\n    .dataframe tbody tr th {\n        vertical-align: top;\n    }\n\n    .dataframe thead th {\n        text-align: right;\n    }\n</style>\n<table border=\"1\" class=\"dataframe\">\n  <thead>\n    <tr style=\"text-align: right;\">\n      <th></th>\n      <th>A</th>\n      <th>B</th>\n      <th>C</th>\n      <th>D</th>\n    </tr>\n  </thead>\n  <tbody>\n    <tr>\n      <th>2023-01-01</th>\n      <td>-0.882984</td>\n      <td>0.492571</td>\n      <td>-1.052183</td>\n      <td>0.002512</td>\n    </tr>\n    <tr>\n      <th>2023-01-02</th>\n      <td>1.047020</td>\n      <td>0.739305</td>\n      <td>-1.194248</td>\n      <td>-0.681416</td>\n    </tr>\n    <tr>\n      <th>2023-01-03</th>\n      <td>0.508919</td>\n      <td>1.617742</td>\n      <td>-0.460865</td>\n      <td>2.584497</td>\n    </tr>\n  </tbody>\n</table>\n</div>"
     },
     "execution_count": 35,
     "metadata": {},
     "output_type": "execute_result"
    }
   ],
   "source": [
    "df.head(3)"
   ],
   "metadata": {
    "collapsed": false,
    "pycharm": {
     "name": "#%%\n"
    }
   }
  },
  {
   "cell_type": "code",
   "execution_count": 36,
   "outputs": [
    {
     "data": {
      "text/plain": "                   A         B         C         D\n2023-01-29  0.241534 -0.018960  0.185802 -0.205038\n2023-01-30 -0.323865  0.108125 -0.352725 -0.160106",
      "text/html": "<div>\n<style scoped>\n    .dataframe tbody tr th:only-of-type {\n        vertical-align: middle;\n    }\n\n    .dataframe tbody tr th {\n        vertical-align: top;\n    }\n\n    .dataframe thead th {\n        text-align: right;\n    }\n</style>\n<table border=\"1\" class=\"dataframe\">\n  <thead>\n    <tr style=\"text-align: right;\">\n      <th></th>\n      <th>A</th>\n      <th>B</th>\n      <th>C</th>\n      <th>D</th>\n    </tr>\n  </thead>\n  <tbody>\n    <tr>\n      <th>2023-01-29</th>\n      <td>0.241534</td>\n      <td>-0.018960</td>\n      <td>0.185802</td>\n      <td>-0.205038</td>\n    </tr>\n    <tr>\n      <th>2023-01-30</th>\n      <td>-0.323865</td>\n      <td>0.108125</td>\n      <td>-0.352725</td>\n      <td>-0.160106</td>\n    </tr>\n  </tbody>\n</table>\n</div>"
     },
     "execution_count": 36,
     "metadata": {},
     "output_type": "execute_result"
    }
   ],
   "source": [
    "df.tail(2)"
   ],
   "metadata": {
    "collapsed": false,
    "pycharm": {
     "name": "#%%\n"
    }
   }
  },
  {
   "cell_type": "code",
   "execution_count": 39,
   "outputs": [
    {
     "data": {
      "text/plain": "DatetimeIndex(['2023-01-01', '2023-01-02', '2023-01-03', '2023-01-04',\n               '2023-01-05', '2023-01-06', '2023-01-07', '2023-01-08',\n               '2023-01-09', '2023-01-10', '2023-01-11', '2023-01-12',\n               '2023-01-13', '2023-01-14', '2023-01-15', '2023-01-16',\n               '2023-01-17', '2023-01-18', '2023-01-19', '2023-01-20',\n               '2023-01-21', '2023-01-22', '2023-01-23', '2023-01-24',\n               '2023-01-25', '2023-01-26', '2023-01-27', '2023-01-28',\n               '2023-01-29', '2023-01-30'],\n              dtype='datetime64[ns]', freq='D')"
     },
     "execution_count": 39,
     "metadata": {},
     "output_type": "execute_result"
    }
   ],
   "source": [
    "df.index"
   ],
   "metadata": {
    "collapsed": false,
    "pycharm": {
     "name": "#%%\n"
    }
   }
  },
  {
   "cell_type": "code",
   "execution_count": 41,
   "outputs": [
    {
     "data": {
      "text/plain": "array([[-8.82983809e-01,  4.92571173e-01, -1.05218280e+00,\n         2.51153505e-03],\n       [ 1.04701973e+00,  7.39305452e-01, -1.19424775e+00,\n        -6.81416328e-01],\n       [ 5.08919166e-01,  1.61774242e+00, -4.60864712e-01,\n         2.58449731e+00],\n       [-8.01649197e-01,  1.31897635e-01,  7.72546657e-01,\n        -3.88101477e-01],\n       [-5.13947539e-01, -1.52829556e+00,  8.58367736e-01,\n        -4.70823879e-01],\n       [-2.04313035e-01,  5.06745341e-02, -8.27055730e-01,\n        -8.81652107e-02],\n       [-1.17726799e+00,  1.10790868e+00,  3.61844495e-01,\n        -1.29242814e+00],\n       [ 8.48491648e-01, -1.47159975e+00, -1.72228863e+00,\n         5.18981864e-01],\n       [ 2.27455475e+00, -8.49918545e-01,  7.92310236e-02,\n        -4.62911140e-01],\n       [-6.98695892e-01,  1.77493537e+00, -7.95399522e-01,\n        -1.65599234e-01],\n       [-3.97225150e-01, -7.05440295e-01, -6.70562867e-01,\n         6.83138588e-01],\n       [-7.45328697e-01, -1.33100488e-01, -6.98458555e-01,\n        -2.14658938e-01],\n       [-2.10038362e-01,  1.59500141e+00, -1.06995315e+00,\n         5.10841910e-03],\n       [-9.12283902e-01, -1.74242487e+00,  6.61785698e-01,\n        -8.71887134e-02],\n       [ 8.77684040e-02,  1.11565707e+00,  8.04004541e-01,\n         2.07032092e-01],\n       [-1.18051112e+00,  1.28648991e-01, -1.14390549e+00,\n         5.46148178e-01],\n       [-4.31362622e-01, -1.13371043e+00,  2.24921967e+00,\n         3.61425349e-02],\n       [ 5.30775388e-01,  1.49690279e-01, -4.46070691e-03,\n        -1.78627043e+00],\n       [-5.75822020e-01, -2.15064734e+00,  2.38443466e-01,\n        -3.12553759e-02],\n       [ 1.23456542e+00,  1.13169790e+00, -6.62071592e-01,\n        -2.38713430e-01],\n       [-1.99742687e+00,  9.53924704e-01, -6.68152474e-02,\n         6.91013685e-01],\n       [-8.80155570e-02, -6.21893069e-01, -2.00422675e-01,\n         1.82606584e+00],\n       [-6.73557596e-01,  8.93967491e-01,  1.80899762e+00,\n        -1.69221584e-01],\n       [ 1.75554208e-01, -5.06149829e-01, -7.19202871e-01,\n        -2.34602132e-01],\n       [-1.33965588e+00, -1.62979914e-01,  3.26059772e-01,\n         9.02816438e-01],\n       [-1.61423767e+00, -8.61238461e-01,  5.09136059e-01,\n         1.08391894e+00],\n       [ 7.90749659e-01, -3.23677442e-01,  1.16129534e+00,\n         3.25748909e-01],\n       [ 3.68501188e-01,  8.25053380e-02,  1.78070821e-01,\n         1.75066915e+00],\n       [ 2.41534329e-01, -1.89597803e-02,  1.85801751e-01,\n        -2.05038302e-01],\n       [-3.23864756e-01,  1.08124863e-01, -3.52724855e-01,\n        -1.60106172e-01]])"
     },
     "execution_count": 41,
     "metadata": {},
     "output_type": "execute_result"
    }
   ],
   "source": [
    "df.to_numpy()"
   ],
   "metadata": {
    "collapsed": false,
    "pycharm": {
     "name": "#%%\n"
    }
   }
  },
  {
   "cell_type": "code",
   "execution_count": 43,
   "outputs": [
    {
     "data": {
      "text/plain": "               A          B          C          D\ncount  30.000000  30.000000  30.000000  30.000000\nmean   -0.221992  -0.004526  -0.048194   0.149576\nstd     0.919031   1.031262   0.913470   0.876319\nmin    -1.997427  -2.150647  -1.722289  -1.786270\n25%    -0.787569  -0.684553  -0.714017  -0.229616\n50%    -0.360545   0.066590  -0.035638  -0.059222\n75%     0.336759   0.855302   0.472313   0.539357\nmax     2.274555   1.774935   2.249220   2.584497",
      "text/html": "<div>\n<style scoped>\n    .dataframe tbody tr th:only-of-type {\n        vertical-align: middle;\n    }\n\n    .dataframe tbody tr th {\n        vertical-align: top;\n    }\n\n    .dataframe thead th {\n        text-align: right;\n    }\n</style>\n<table border=\"1\" class=\"dataframe\">\n  <thead>\n    <tr style=\"text-align: right;\">\n      <th></th>\n      <th>A</th>\n      <th>B</th>\n      <th>C</th>\n      <th>D</th>\n    </tr>\n  </thead>\n  <tbody>\n    <tr>\n      <th>count</th>\n      <td>30.000000</td>\n      <td>30.000000</td>\n      <td>30.000000</td>\n      <td>30.000000</td>\n    </tr>\n    <tr>\n      <th>mean</th>\n      <td>-0.221992</td>\n      <td>-0.004526</td>\n      <td>-0.048194</td>\n      <td>0.149576</td>\n    </tr>\n    <tr>\n      <th>std</th>\n      <td>0.919031</td>\n      <td>1.031262</td>\n      <td>0.913470</td>\n      <td>0.876319</td>\n    </tr>\n    <tr>\n      <th>min</th>\n      <td>-1.997427</td>\n      <td>-2.150647</td>\n      <td>-1.722289</td>\n      <td>-1.786270</td>\n    </tr>\n    <tr>\n      <th>25%</th>\n      <td>-0.787569</td>\n      <td>-0.684553</td>\n      <td>-0.714017</td>\n      <td>-0.229616</td>\n    </tr>\n    <tr>\n      <th>50%</th>\n      <td>-0.360545</td>\n      <td>0.066590</td>\n      <td>-0.035638</td>\n      <td>-0.059222</td>\n    </tr>\n    <tr>\n      <th>75%</th>\n      <td>0.336759</td>\n      <td>0.855302</td>\n      <td>0.472313</td>\n      <td>0.539357</td>\n    </tr>\n    <tr>\n      <th>max</th>\n      <td>2.274555</td>\n      <td>1.774935</td>\n      <td>2.249220</td>\n      <td>2.584497</td>\n    </tr>\n  </tbody>\n</table>\n</div>"
     },
     "execution_count": 43,
     "metadata": {},
     "output_type": "execute_result"
    }
   ],
   "source": [
    "df.describe()"
   ],
   "metadata": {
    "collapsed": false,
    "pycharm": {
     "name": "#%%\n"
    }
   }
  },
  {
   "cell_type": "code",
   "execution_count": 45,
   "outputs": [
    {
     "data": {
      "text/plain": "                     0                    1                    2  \\\nA                  1.0                  1.0                  1.0   \nB  2023-03-14 00:00:00  2023-03-14 00:00:00  2023-03-14 00:00:00   \nC                  1.0                  1.0                  1.0   \nD                    3                    3                    3   \nE                 girl                women                 girl   \nF              females              females              females   \n\n                     3  \nA                  1.0  \nB  2023-03-14 00:00:00  \nC                  1.0  \nD                    3  \nE                women  \nF              females  ",
      "text/html": "<div>\n<style scoped>\n    .dataframe tbody tr th:only-of-type {\n        vertical-align: middle;\n    }\n\n    .dataframe tbody tr th {\n        vertical-align: top;\n    }\n\n    .dataframe thead th {\n        text-align: right;\n    }\n</style>\n<table border=\"1\" class=\"dataframe\">\n  <thead>\n    <tr style=\"text-align: right;\">\n      <th></th>\n      <th>0</th>\n      <th>1</th>\n      <th>2</th>\n      <th>3</th>\n    </tr>\n  </thead>\n  <tbody>\n    <tr>\n      <th>A</th>\n      <td>1.0</td>\n      <td>1.0</td>\n      <td>1.0</td>\n      <td>1.0</td>\n    </tr>\n    <tr>\n      <th>B</th>\n      <td>2023-03-14 00:00:00</td>\n      <td>2023-03-14 00:00:00</td>\n      <td>2023-03-14 00:00:00</td>\n      <td>2023-03-14 00:00:00</td>\n    </tr>\n    <tr>\n      <th>C</th>\n      <td>1.0</td>\n      <td>1.0</td>\n      <td>1.0</td>\n      <td>1.0</td>\n    </tr>\n    <tr>\n      <th>D</th>\n      <td>3</td>\n      <td>3</td>\n      <td>3</td>\n      <td>3</td>\n    </tr>\n    <tr>\n      <th>E</th>\n      <td>girl</td>\n      <td>women</td>\n      <td>girl</td>\n      <td>women</td>\n    </tr>\n    <tr>\n      <th>F</th>\n      <td>females</td>\n      <td>females</td>\n      <td>females</td>\n      <td>females</td>\n    </tr>\n  </tbody>\n</table>\n</div>"
     },
     "execution_count": 45,
     "metadata": {},
     "output_type": "execute_result"
    }
   ],
   "source": [
    "df2.T"
   ],
   "metadata": {
    "collapsed": false,
    "pycharm": {
     "name": "#%%\n"
    }
   }
  },
  {
   "cell_type": "code",
   "execution_count": 49,
   "outputs": [
    {
     "data": {
      "text/plain": "                   A         B         C         D\n2023-01-30 -0.323865  0.108125 -0.352725 -0.160106\n2023-01-29  0.241534 -0.018960  0.185802 -0.205038\n2023-01-28  0.368501  0.082505  0.178071  1.750669\n2023-01-27  0.790750 -0.323677  1.161295  0.325749\n2023-01-26 -1.614238 -0.861238  0.509136  1.083919\n2023-01-25 -1.339656 -0.162980  0.326060  0.902816\n2023-01-24  0.175554 -0.506150 -0.719203 -0.234602\n2023-01-23 -0.673558  0.893967  1.808998 -0.169222\n2023-01-22 -0.088016 -0.621893 -0.200423  1.826066\n2023-01-21 -1.997427  0.953925 -0.066815  0.691014\n2023-01-20  1.234565  1.131698 -0.662072 -0.238713\n2023-01-19 -0.575822 -2.150647  0.238443 -0.031255\n2023-01-18  0.530775  0.149690 -0.004461 -1.786270\n2023-01-17 -0.431363 -1.133710  2.249220  0.036143\n2023-01-16 -1.180511  0.128649 -1.143905  0.546148\n2023-01-15  0.087768  1.115657  0.804005  0.207032\n2023-01-14 -0.912284 -1.742425  0.661786 -0.087189\n2023-01-13 -0.210038  1.595001 -1.069953  0.005108\n2023-01-12 -0.745329 -0.133100 -0.698459 -0.214659\n2023-01-11 -0.397225 -0.705440 -0.670563  0.683139\n2023-01-10 -0.698696  1.774935 -0.795400 -0.165599\n2023-01-09  2.274555 -0.849919  0.079231 -0.462911\n2023-01-08  0.848492 -1.471600 -1.722289  0.518982\n2023-01-07 -1.177268  1.107909  0.361844 -1.292428\n2023-01-06 -0.204313  0.050675 -0.827056 -0.088165\n2023-01-05 -0.513948 -1.528296  0.858368 -0.470824\n2023-01-04 -0.801649  0.131898  0.772547 -0.388101\n2023-01-03  0.508919  1.617742 -0.460865  2.584497\n2023-01-02  1.047020  0.739305 -1.194248 -0.681416\n2023-01-01 -0.882984  0.492571 -1.052183  0.002512",
      "text/html": "<div>\n<style scoped>\n    .dataframe tbody tr th:only-of-type {\n        vertical-align: middle;\n    }\n\n    .dataframe tbody tr th {\n        vertical-align: top;\n    }\n\n    .dataframe thead th {\n        text-align: right;\n    }\n</style>\n<table border=\"1\" class=\"dataframe\">\n  <thead>\n    <tr style=\"text-align: right;\">\n      <th></th>\n      <th>A</th>\n      <th>B</th>\n      <th>C</th>\n      <th>D</th>\n    </tr>\n  </thead>\n  <tbody>\n    <tr>\n      <th>2023-01-30</th>\n      <td>-0.323865</td>\n      <td>0.108125</td>\n      <td>-0.352725</td>\n      <td>-0.160106</td>\n    </tr>\n    <tr>\n      <th>2023-01-29</th>\n      <td>0.241534</td>\n      <td>-0.018960</td>\n      <td>0.185802</td>\n      <td>-0.205038</td>\n    </tr>\n    <tr>\n      <th>2023-01-28</th>\n      <td>0.368501</td>\n      <td>0.082505</td>\n      <td>0.178071</td>\n      <td>1.750669</td>\n    </tr>\n    <tr>\n      <th>2023-01-27</th>\n      <td>0.790750</td>\n      <td>-0.323677</td>\n      <td>1.161295</td>\n      <td>0.325749</td>\n    </tr>\n    <tr>\n      <th>2023-01-26</th>\n      <td>-1.614238</td>\n      <td>-0.861238</td>\n      <td>0.509136</td>\n      <td>1.083919</td>\n    </tr>\n    <tr>\n      <th>2023-01-25</th>\n      <td>-1.339656</td>\n      <td>-0.162980</td>\n      <td>0.326060</td>\n      <td>0.902816</td>\n    </tr>\n    <tr>\n      <th>2023-01-24</th>\n      <td>0.175554</td>\n      <td>-0.506150</td>\n      <td>-0.719203</td>\n      <td>-0.234602</td>\n    </tr>\n    <tr>\n      <th>2023-01-23</th>\n      <td>-0.673558</td>\n      <td>0.893967</td>\n      <td>1.808998</td>\n      <td>-0.169222</td>\n    </tr>\n    <tr>\n      <th>2023-01-22</th>\n      <td>-0.088016</td>\n      <td>-0.621893</td>\n      <td>-0.200423</td>\n      <td>1.826066</td>\n    </tr>\n    <tr>\n      <th>2023-01-21</th>\n      <td>-1.997427</td>\n      <td>0.953925</td>\n      <td>-0.066815</td>\n      <td>0.691014</td>\n    </tr>\n    <tr>\n      <th>2023-01-20</th>\n      <td>1.234565</td>\n      <td>1.131698</td>\n      <td>-0.662072</td>\n      <td>-0.238713</td>\n    </tr>\n    <tr>\n      <th>2023-01-19</th>\n      <td>-0.575822</td>\n      <td>-2.150647</td>\n      <td>0.238443</td>\n      <td>-0.031255</td>\n    </tr>\n    <tr>\n      <th>2023-01-18</th>\n      <td>0.530775</td>\n      <td>0.149690</td>\n      <td>-0.004461</td>\n      <td>-1.786270</td>\n    </tr>\n    <tr>\n      <th>2023-01-17</th>\n      <td>-0.431363</td>\n      <td>-1.133710</td>\n      <td>2.249220</td>\n      <td>0.036143</td>\n    </tr>\n    <tr>\n      <th>2023-01-16</th>\n      <td>-1.180511</td>\n      <td>0.128649</td>\n      <td>-1.143905</td>\n      <td>0.546148</td>\n    </tr>\n    <tr>\n      <th>2023-01-15</th>\n      <td>0.087768</td>\n      <td>1.115657</td>\n      <td>0.804005</td>\n      <td>0.207032</td>\n    </tr>\n    <tr>\n      <th>2023-01-14</th>\n      <td>-0.912284</td>\n      <td>-1.742425</td>\n      <td>0.661786</td>\n      <td>-0.087189</td>\n    </tr>\n    <tr>\n      <th>2023-01-13</th>\n      <td>-0.210038</td>\n      <td>1.595001</td>\n      <td>-1.069953</td>\n      <td>0.005108</td>\n    </tr>\n    <tr>\n      <th>2023-01-12</th>\n      <td>-0.745329</td>\n      <td>-0.133100</td>\n      <td>-0.698459</td>\n      <td>-0.214659</td>\n    </tr>\n    <tr>\n      <th>2023-01-11</th>\n      <td>-0.397225</td>\n      <td>-0.705440</td>\n      <td>-0.670563</td>\n      <td>0.683139</td>\n    </tr>\n    <tr>\n      <th>2023-01-10</th>\n      <td>-0.698696</td>\n      <td>1.774935</td>\n      <td>-0.795400</td>\n      <td>-0.165599</td>\n    </tr>\n    <tr>\n      <th>2023-01-09</th>\n      <td>2.274555</td>\n      <td>-0.849919</td>\n      <td>0.079231</td>\n      <td>-0.462911</td>\n    </tr>\n    <tr>\n      <th>2023-01-08</th>\n      <td>0.848492</td>\n      <td>-1.471600</td>\n      <td>-1.722289</td>\n      <td>0.518982</td>\n    </tr>\n    <tr>\n      <th>2023-01-07</th>\n      <td>-1.177268</td>\n      <td>1.107909</td>\n      <td>0.361844</td>\n      <td>-1.292428</td>\n    </tr>\n    <tr>\n      <th>2023-01-06</th>\n      <td>-0.204313</td>\n      <td>0.050675</td>\n      <td>-0.827056</td>\n      <td>-0.088165</td>\n    </tr>\n    <tr>\n      <th>2023-01-05</th>\n      <td>-0.513948</td>\n      <td>-1.528296</td>\n      <td>0.858368</td>\n      <td>-0.470824</td>\n    </tr>\n    <tr>\n      <th>2023-01-04</th>\n      <td>-0.801649</td>\n      <td>0.131898</td>\n      <td>0.772547</td>\n      <td>-0.388101</td>\n    </tr>\n    <tr>\n      <th>2023-01-03</th>\n      <td>0.508919</td>\n      <td>1.617742</td>\n      <td>-0.460865</td>\n      <td>2.584497</td>\n    </tr>\n    <tr>\n      <th>2023-01-02</th>\n      <td>1.047020</td>\n      <td>0.739305</td>\n      <td>-1.194248</td>\n      <td>-0.681416</td>\n    </tr>\n    <tr>\n      <th>2023-01-01</th>\n      <td>-0.882984</td>\n      <td>0.492571</td>\n      <td>-1.052183</td>\n      <td>0.002512</td>\n    </tr>\n  </tbody>\n</table>\n</div>"
     },
     "execution_count": 49,
     "metadata": {},
     "output_type": "execute_result"
    }
   ],
   "source": [
    "df.sort_index(axis=0, ascending=False)"
   ],
   "metadata": {
    "collapsed": false,
    "pycharm": {
     "name": "#%%\n"
    }
   }
  },
  {
   "cell_type": "code",
   "execution_count": 53,
   "outputs": [
    {
     "data": {
      "text/plain": "                   A         B         C         D\n2023-01-19 -0.575822 -2.150647  0.238443 -0.031255\n2023-01-14 -0.912284 -1.742425  0.661786 -0.087189\n2023-01-05 -0.513948 -1.528296  0.858368 -0.470824\n2023-01-08  0.848492 -1.471600 -1.722289  0.518982\n2023-01-17 -0.431363 -1.133710  2.249220  0.036143\n2023-01-26 -1.614238 -0.861238  0.509136  1.083919\n2023-01-09  2.274555 -0.849919  0.079231 -0.462911\n2023-01-11 -0.397225 -0.705440 -0.670563  0.683139\n2023-01-22 -0.088016 -0.621893 -0.200423  1.826066\n2023-01-24  0.175554 -0.506150 -0.719203 -0.234602\n2023-01-27  0.790750 -0.323677  1.161295  0.325749\n2023-01-25 -1.339656 -0.162980  0.326060  0.902816\n2023-01-12 -0.745329 -0.133100 -0.698459 -0.214659\n2023-01-29  0.241534 -0.018960  0.185802 -0.205038\n2023-01-06 -0.204313  0.050675 -0.827056 -0.088165\n2023-01-28  0.368501  0.082505  0.178071  1.750669\n2023-01-30 -0.323865  0.108125 -0.352725 -0.160106\n2023-01-16 -1.180511  0.128649 -1.143905  0.546148\n2023-01-04 -0.801649  0.131898  0.772547 -0.388101\n2023-01-18  0.530775  0.149690 -0.004461 -1.786270\n2023-01-01 -0.882984  0.492571 -1.052183  0.002512\n2023-01-02  1.047020  0.739305 -1.194248 -0.681416\n2023-01-23 -0.673558  0.893967  1.808998 -0.169222\n2023-01-21 -1.997427  0.953925 -0.066815  0.691014\n2023-01-07 -1.177268  1.107909  0.361844 -1.292428\n2023-01-15  0.087768  1.115657  0.804005  0.207032\n2023-01-20  1.234565  1.131698 -0.662072 -0.238713\n2023-01-13 -0.210038  1.595001 -1.069953  0.005108\n2023-01-03  0.508919  1.617742 -0.460865  2.584497\n2023-01-10 -0.698696  1.774935 -0.795400 -0.165599",
      "text/html": "<div>\n<style scoped>\n    .dataframe tbody tr th:only-of-type {\n        vertical-align: middle;\n    }\n\n    .dataframe tbody tr th {\n        vertical-align: top;\n    }\n\n    .dataframe thead th {\n        text-align: right;\n    }\n</style>\n<table border=\"1\" class=\"dataframe\">\n  <thead>\n    <tr style=\"text-align: right;\">\n      <th></th>\n      <th>A</th>\n      <th>B</th>\n      <th>C</th>\n      <th>D</th>\n    </tr>\n  </thead>\n  <tbody>\n    <tr>\n      <th>2023-01-19</th>\n      <td>-0.575822</td>\n      <td>-2.150647</td>\n      <td>0.238443</td>\n      <td>-0.031255</td>\n    </tr>\n    <tr>\n      <th>2023-01-14</th>\n      <td>-0.912284</td>\n      <td>-1.742425</td>\n      <td>0.661786</td>\n      <td>-0.087189</td>\n    </tr>\n    <tr>\n      <th>2023-01-05</th>\n      <td>-0.513948</td>\n      <td>-1.528296</td>\n      <td>0.858368</td>\n      <td>-0.470824</td>\n    </tr>\n    <tr>\n      <th>2023-01-08</th>\n      <td>0.848492</td>\n      <td>-1.471600</td>\n      <td>-1.722289</td>\n      <td>0.518982</td>\n    </tr>\n    <tr>\n      <th>2023-01-17</th>\n      <td>-0.431363</td>\n      <td>-1.133710</td>\n      <td>2.249220</td>\n      <td>0.036143</td>\n    </tr>\n    <tr>\n      <th>2023-01-26</th>\n      <td>-1.614238</td>\n      <td>-0.861238</td>\n      <td>0.509136</td>\n      <td>1.083919</td>\n    </tr>\n    <tr>\n      <th>2023-01-09</th>\n      <td>2.274555</td>\n      <td>-0.849919</td>\n      <td>0.079231</td>\n      <td>-0.462911</td>\n    </tr>\n    <tr>\n      <th>2023-01-11</th>\n      <td>-0.397225</td>\n      <td>-0.705440</td>\n      <td>-0.670563</td>\n      <td>0.683139</td>\n    </tr>\n    <tr>\n      <th>2023-01-22</th>\n      <td>-0.088016</td>\n      <td>-0.621893</td>\n      <td>-0.200423</td>\n      <td>1.826066</td>\n    </tr>\n    <tr>\n      <th>2023-01-24</th>\n      <td>0.175554</td>\n      <td>-0.506150</td>\n      <td>-0.719203</td>\n      <td>-0.234602</td>\n    </tr>\n    <tr>\n      <th>2023-01-27</th>\n      <td>0.790750</td>\n      <td>-0.323677</td>\n      <td>1.161295</td>\n      <td>0.325749</td>\n    </tr>\n    <tr>\n      <th>2023-01-25</th>\n      <td>-1.339656</td>\n      <td>-0.162980</td>\n      <td>0.326060</td>\n      <td>0.902816</td>\n    </tr>\n    <tr>\n      <th>2023-01-12</th>\n      <td>-0.745329</td>\n      <td>-0.133100</td>\n      <td>-0.698459</td>\n      <td>-0.214659</td>\n    </tr>\n    <tr>\n      <th>2023-01-29</th>\n      <td>0.241534</td>\n      <td>-0.018960</td>\n      <td>0.185802</td>\n      <td>-0.205038</td>\n    </tr>\n    <tr>\n      <th>2023-01-06</th>\n      <td>-0.204313</td>\n      <td>0.050675</td>\n      <td>-0.827056</td>\n      <td>-0.088165</td>\n    </tr>\n    <tr>\n      <th>2023-01-28</th>\n      <td>0.368501</td>\n      <td>0.082505</td>\n      <td>0.178071</td>\n      <td>1.750669</td>\n    </tr>\n    <tr>\n      <th>2023-01-30</th>\n      <td>-0.323865</td>\n      <td>0.108125</td>\n      <td>-0.352725</td>\n      <td>-0.160106</td>\n    </tr>\n    <tr>\n      <th>2023-01-16</th>\n      <td>-1.180511</td>\n      <td>0.128649</td>\n      <td>-1.143905</td>\n      <td>0.546148</td>\n    </tr>\n    <tr>\n      <th>2023-01-04</th>\n      <td>-0.801649</td>\n      <td>0.131898</td>\n      <td>0.772547</td>\n      <td>-0.388101</td>\n    </tr>\n    <tr>\n      <th>2023-01-18</th>\n      <td>0.530775</td>\n      <td>0.149690</td>\n      <td>-0.004461</td>\n      <td>-1.786270</td>\n    </tr>\n    <tr>\n      <th>2023-01-01</th>\n      <td>-0.882984</td>\n      <td>0.492571</td>\n      <td>-1.052183</td>\n      <td>0.002512</td>\n    </tr>\n    <tr>\n      <th>2023-01-02</th>\n      <td>1.047020</td>\n      <td>0.739305</td>\n      <td>-1.194248</td>\n      <td>-0.681416</td>\n    </tr>\n    <tr>\n      <th>2023-01-23</th>\n      <td>-0.673558</td>\n      <td>0.893967</td>\n      <td>1.808998</td>\n      <td>-0.169222</td>\n    </tr>\n    <tr>\n      <th>2023-01-21</th>\n      <td>-1.997427</td>\n      <td>0.953925</td>\n      <td>-0.066815</td>\n      <td>0.691014</td>\n    </tr>\n    <tr>\n      <th>2023-01-07</th>\n      <td>-1.177268</td>\n      <td>1.107909</td>\n      <td>0.361844</td>\n      <td>-1.292428</td>\n    </tr>\n    <tr>\n      <th>2023-01-15</th>\n      <td>0.087768</td>\n      <td>1.115657</td>\n      <td>0.804005</td>\n      <td>0.207032</td>\n    </tr>\n    <tr>\n      <th>2023-01-20</th>\n      <td>1.234565</td>\n      <td>1.131698</td>\n      <td>-0.662072</td>\n      <td>-0.238713</td>\n    </tr>\n    <tr>\n      <th>2023-01-13</th>\n      <td>-0.210038</td>\n      <td>1.595001</td>\n      <td>-1.069953</td>\n      <td>0.005108</td>\n    </tr>\n    <tr>\n      <th>2023-01-03</th>\n      <td>0.508919</td>\n      <td>1.617742</td>\n      <td>-0.460865</td>\n      <td>2.584497</td>\n    </tr>\n    <tr>\n      <th>2023-01-10</th>\n      <td>-0.698696</td>\n      <td>1.774935</td>\n      <td>-0.795400</td>\n      <td>-0.165599</td>\n    </tr>\n  </tbody>\n</table>\n</div>"
     },
     "execution_count": 53,
     "metadata": {},
     "output_type": "execute_result"
    }
   ],
   "source": [
    "df.sort_values(by=\"B\", ascending=True)"
   ],
   "metadata": {
    "collapsed": false,
    "pycharm": {
     "name": "#%%\n"
    }
   }
  },
  {
   "cell_type": "code",
   "execution_count": 60,
   "outputs": [
    {
     "data": {
      "text/plain": "2023-01-01   -1.052183\n2023-01-02   -1.194248\n2023-01-03   -0.460865\n2023-01-04    0.772547\n2023-01-05    0.858368\n2023-01-06   -0.827056\n2023-01-07    0.361844\n2023-01-08   -1.722289\n2023-01-09    0.079231\n2023-01-10   -0.795400\n2023-01-11   -0.670563\n2023-01-12   -0.698459\n2023-01-13   -1.069953\n2023-01-14    0.661786\n2023-01-15    0.804005\n2023-01-16   -1.143905\n2023-01-17    2.249220\n2023-01-18   -0.004461\n2023-01-19    0.238443\n2023-01-20   -0.662072\n2023-01-21   -0.066815\n2023-01-22   -0.200423\n2023-01-23    1.808998\n2023-01-24   -0.719203\n2023-01-25    0.326060\n2023-01-26    0.509136\n2023-01-27    1.161295\n2023-01-28    0.178071\n2023-01-29    0.185802\n2023-01-30   -0.352725\nFreq: D, Name: C, dtype: float64"
     },
     "execution_count": 60,
     "metadata": {},
     "output_type": "execute_result"
    }
   ],
   "source": [
    "df[\"C\"]"
   ],
   "metadata": {
    "collapsed": false,
    "pycharm": {
     "name": "#%%\n"
    }
   }
  },
  {
   "cell_type": "code",
   "execution_count": 69,
   "outputs": [
    {
     "data": {
      "text/plain": "                   A         B         C         D\n2023-01-01 -0.882984  0.492571 -1.052183  0.002512\n2023-01-02  1.047020  0.739305 -1.194248 -0.681416\n2023-01-03  0.508919  1.617742 -0.460865  2.584497",
      "text/html": "<div>\n<style scoped>\n    .dataframe tbody tr th:only-of-type {\n        vertical-align: middle;\n    }\n\n    .dataframe tbody tr th {\n        vertical-align: top;\n    }\n\n    .dataframe thead th {\n        text-align: right;\n    }\n</style>\n<table border=\"1\" class=\"dataframe\">\n  <thead>\n    <tr style=\"text-align: right;\">\n      <th></th>\n      <th>A</th>\n      <th>B</th>\n      <th>C</th>\n      <th>D</th>\n    </tr>\n  </thead>\n  <tbody>\n    <tr>\n      <th>2023-01-01</th>\n      <td>-0.882984</td>\n      <td>0.492571</td>\n      <td>-1.052183</td>\n      <td>0.002512</td>\n    </tr>\n    <tr>\n      <th>2023-01-02</th>\n      <td>1.047020</td>\n      <td>0.739305</td>\n      <td>-1.194248</td>\n      <td>-0.681416</td>\n    </tr>\n    <tr>\n      <th>2023-01-03</th>\n      <td>0.508919</td>\n      <td>1.617742</td>\n      <td>-0.460865</td>\n      <td>2.584497</td>\n    </tr>\n  </tbody>\n</table>\n</div>"
     },
     "execution_count": 69,
     "metadata": {},
     "output_type": "execute_result"
    }
   ],
   "source": [
    "df[0:3]"
   ],
   "metadata": {
    "collapsed": false,
    "pycharm": {
     "name": "#%%\n"
    }
   }
  },
  {
   "cell_type": "code",
   "execution_count": 76,
   "outputs": [
    {
     "data": {
      "text/plain": "                   A         B\n2023-01-01 -0.882984  0.492571\n2023-01-02  1.047020  0.739305\n2023-01-03  0.508919  1.617742\n2023-01-04 -0.801649  0.131898\n2023-01-05 -0.513948 -1.528296\n2023-01-06 -0.204313  0.050675\n2023-01-07 -1.177268  1.107909\n2023-01-08  0.848492 -1.471600\n2023-01-09  2.274555 -0.849919\n2023-01-10 -0.698696  1.774935\n2023-01-11 -0.397225 -0.705440\n2023-01-12 -0.745329 -0.133100\n2023-01-13 -0.210038  1.595001\n2023-01-14 -0.912284 -1.742425\n2023-01-15  0.087768  1.115657\n2023-01-16 -1.180511  0.128649\n2023-01-17 -0.431363 -1.133710\n2023-01-18  0.530775  0.149690\n2023-01-19 -0.575822 -2.150647\n2023-01-20  1.234565  1.131698\n2023-01-21 -1.997427  0.953925\n2023-01-22 -0.088016 -0.621893\n2023-01-23 -0.673558  0.893967\n2023-01-24  0.175554 -0.506150\n2023-01-25 -1.339656 -0.162980\n2023-01-26 -1.614238 -0.861238\n2023-01-27  0.790750 -0.323677\n2023-01-28  0.368501  0.082505\n2023-01-29  0.241534 -0.018960\n2023-01-30 -0.323865  0.108125",
      "text/html": "<div>\n<style scoped>\n    .dataframe tbody tr th:only-of-type {\n        vertical-align: middle;\n    }\n\n    .dataframe tbody tr th {\n        vertical-align: top;\n    }\n\n    .dataframe thead th {\n        text-align: right;\n    }\n</style>\n<table border=\"1\" class=\"dataframe\">\n  <thead>\n    <tr style=\"text-align: right;\">\n      <th></th>\n      <th>A</th>\n      <th>B</th>\n    </tr>\n  </thead>\n  <tbody>\n    <tr>\n      <th>2023-01-01</th>\n      <td>-0.882984</td>\n      <td>0.492571</td>\n    </tr>\n    <tr>\n      <th>2023-01-02</th>\n      <td>1.047020</td>\n      <td>0.739305</td>\n    </tr>\n    <tr>\n      <th>2023-01-03</th>\n      <td>0.508919</td>\n      <td>1.617742</td>\n    </tr>\n    <tr>\n      <th>2023-01-04</th>\n      <td>-0.801649</td>\n      <td>0.131898</td>\n    </tr>\n    <tr>\n      <th>2023-01-05</th>\n      <td>-0.513948</td>\n      <td>-1.528296</td>\n    </tr>\n    <tr>\n      <th>2023-01-06</th>\n      <td>-0.204313</td>\n      <td>0.050675</td>\n    </tr>\n    <tr>\n      <th>2023-01-07</th>\n      <td>-1.177268</td>\n      <td>1.107909</td>\n    </tr>\n    <tr>\n      <th>2023-01-08</th>\n      <td>0.848492</td>\n      <td>-1.471600</td>\n    </tr>\n    <tr>\n      <th>2023-01-09</th>\n      <td>2.274555</td>\n      <td>-0.849919</td>\n    </tr>\n    <tr>\n      <th>2023-01-10</th>\n      <td>-0.698696</td>\n      <td>1.774935</td>\n    </tr>\n    <tr>\n      <th>2023-01-11</th>\n      <td>-0.397225</td>\n      <td>-0.705440</td>\n    </tr>\n    <tr>\n      <th>2023-01-12</th>\n      <td>-0.745329</td>\n      <td>-0.133100</td>\n    </tr>\n    <tr>\n      <th>2023-01-13</th>\n      <td>-0.210038</td>\n      <td>1.595001</td>\n    </tr>\n    <tr>\n      <th>2023-01-14</th>\n      <td>-0.912284</td>\n      <td>-1.742425</td>\n    </tr>\n    <tr>\n      <th>2023-01-15</th>\n      <td>0.087768</td>\n      <td>1.115657</td>\n    </tr>\n    <tr>\n      <th>2023-01-16</th>\n      <td>-1.180511</td>\n      <td>0.128649</td>\n    </tr>\n    <tr>\n      <th>2023-01-17</th>\n      <td>-0.431363</td>\n      <td>-1.133710</td>\n    </tr>\n    <tr>\n      <th>2023-01-18</th>\n      <td>0.530775</td>\n      <td>0.149690</td>\n    </tr>\n    <tr>\n      <th>2023-01-19</th>\n      <td>-0.575822</td>\n      <td>-2.150647</td>\n    </tr>\n    <tr>\n      <th>2023-01-20</th>\n      <td>1.234565</td>\n      <td>1.131698</td>\n    </tr>\n    <tr>\n      <th>2023-01-21</th>\n      <td>-1.997427</td>\n      <td>0.953925</td>\n    </tr>\n    <tr>\n      <th>2023-01-22</th>\n      <td>-0.088016</td>\n      <td>-0.621893</td>\n    </tr>\n    <tr>\n      <th>2023-01-23</th>\n      <td>-0.673558</td>\n      <td>0.893967</td>\n    </tr>\n    <tr>\n      <th>2023-01-24</th>\n      <td>0.175554</td>\n      <td>-0.506150</td>\n    </tr>\n    <tr>\n      <th>2023-01-25</th>\n      <td>-1.339656</td>\n      <td>-0.162980</td>\n    </tr>\n    <tr>\n      <th>2023-01-26</th>\n      <td>-1.614238</td>\n      <td>-0.861238</td>\n    </tr>\n    <tr>\n      <th>2023-01-27</th>\n      <td>0.790750</td>\n      <td>-0.323677</td>\n    </tr>\n    <tr>\n      <th>2023-01-28</th>\n      <td>0.368501</td>\n      <td>0.082505</td>\n    </tr>\n    <tr>\n      <th>2023-01-29</th>\n      <td>0.241534</td>\n      <td>-0.018960</td>\n    </tr>\n    <tr>\n      <th>2023-01-30</th>\n      <td>-0.323865</td>\n      <td>0.108125</td>\n    </tr>\n  </tbody>\n</table>\n</div>"
     },
     "execution_count": 76,
     "metadata": {},
     "output_type": "execute_result"
    }
   ],
   "source": [
    "df.loc[:, [\"A\", \"B\"]]"
   ],
   "metadata": {
    "collapsed": false,
    "pycharm": {
     "name": "#%%\n"
    }
   }
  },
  {
   "cell_type": "code",
   "execution_count": 79,
   "outputs": [
    {
     "data": {
      "text/plain": "                   A         B         C\n2023-01-01 -0.882984  0.492571 -1.052183\n2023-01-02  1.047020  0.739305 -1.194248\n2023-01-03  0.508919  1.617742 -0.460865\n2023-01-04 -0.801649  0.131898  0.772547\n2023-01-05 -0.513948 -1.528296  0.858368",
      "text/html": "<div>\n<style scoped>\n    .dataframe tbody tr th:only-of-type {\n        vertical-align: middle;\n    }\n\n    .dataframe tbody tr th {\n        vertical-align: top;\n    }\n\n    .dataframe thead th {\n        text-align: right;\n    }\n</style>\n<table border=\"1\" class=\"dataframe\">\n  <thead>\n    <tr style=\"text-align: right;\">\n      <th></th>\n      <th>A</th>\n      <th>B</th>\n      <th>C</th>\n    </tr>\n  </thead>\n  <tbody>\n    <tr>\n      <th>2023-01-01</th>\n      <td>-0.882984</td>\n      <td>0.492571</td>\n      <td>-1.052183</td>\n    </tr>\n    <tr>\n      <th>2023-01-02</th>\n      <td>1.047020</td>\n      <td>0.739305</td>\n      <td>-1.194248</td>\n    </tr>\n    <tr>\n      <th>2023-01-03</th>\n      <td>0.508919</td>\n      <td>1.617742</td>\n      <td>-0.460865</td>\n    </tr>\n    <tr>\n      <th>2023-01-04</th>\n      <td>-0.801649</td>\n      <td>0.131898</td>\n      <td>0.772547</td>\n    </tr>\n    <tr>\n      <th>2023-01-05</th>\n      <td>-0.513948</td>\n      <td>-1.528296</td>\n      <td>0.858368</td>\n    </tr>\n  </tbody>\n</table>\n</div>"
     },
     "execution_count": 79,
     "metadata": {},
     "output_type": "execute_result"
    }
   ],
   "source": [
    "#defining row range like date from 1st Jan to 5th Jan\n",
    "df.loc[\"2023-01-01\":\"2023-01-05\", [\"A\", \"B\", \"C\"]]"
   ],
   "metadata": {
    "collapsed": false,
    "pycharm": {
     "name": "#%%\n"
    }
   }
  },
  {
   "cell_type": "code",
   "execution_count": 82,
   "outputs": [
    {
     "data": {
      "text/plain": "                   A         B         C\n2023-01-01 -0.882984  0.492571 -1.052183\n2023-01-04 -0.801649  0.131898  0.772547",
      "text/html": "<div>\n<style scoped>\n    .dataframe tbody tr th:only-of-type {\n        vertical-align: middle;\n    }\n\n    .dataframe tbody tr th {\n        vertical-align: top;\n    }\n\n    .dataframe thead th {\n        text-align: right;\n    }\n</style>\n<table border=\"1\" class=\"dataframe\">\n  <thead>\n    <tr style=\"text-align: right;\">\n      <th></th>\n      <th>A</th>\n      <th>B</th>\n      <th>C</th>\n    </tr>\n  </thead>\n  <tbody>\n    <tr>\n      <th>2023-01-01</th>\n      <td>-0.882984</td>\n      <td>0.492571</td>\n      <td>-1.052183</td>\n    </tr>\n    <tr>\n      <th>2023-01-04</th>\n      <td>-0.801649</td>\n      <td>0.131898</td>\n      <td>0.772547</td>\n    </tr>\n  </tbody>\n</table>\n</div>"
     },
     "execution_count": 82,
     "metadata": {},
     "output_type": "execute_result"
    }
   ],
   "source": [
    "#defining row criteria like 1st AND 4th Jan (NOT RANGE) Row should be in list form\n",
    "df.loc[[\"2023-01-01\",\"2023-01-04\"], [\"A\", \"B\", \"C\"]]"
   ],
   "metadata": {
    "collapsed": false,
    "pycharm": {
     "name": "#%%\n"
    }
   }
  },
  {
   "cell_type": "code",
   "execution_count": 84,
   "outputs": [
    {
     "data": {
      "text/plain": "                   A         B         C\n2023-01-01 -0.882984  0.492571 -1.052183",
      "text/html": "<div>\n<style scoped>\n    .dataframe tbody tr th:only-of-type {\n        vertical-align: middle;\n    }\n\n    .dataframe tbody tr th {\n        vertical-align: top;\n    }\n\n    .dataframe thead th {\n        text-align: right;\n    }\n</style>\n<table border=\"1\" class=\"dataframe\">\n  <thead>\n    <tr style=\"text-align: right;\">\n      <th></th>\n      <th>A</th>\n      <th>B</th>\n      <th>C</th>\n    </tr>\n  </thead>\n  <tbody>\n    <tr>\n      <th>2023-01-01</th>\n      <td>-0.882984</td>\n      <td>0.492571</td>\n      <td>-1.052183</td>\n    </tr>\n  </tbody>\n</table>\n</div>"
     },
     "execution_count": 84,
     "metadata": {},
     "output_type": "execute_result"
    }
   ],
   "source": [
    "#for specific row record\n",
    "df.loc[[\"2023-01-01\"], [\"A\", \"B\", \"C\"]]"
   ],
   "metadata": {
    "collapsed": false,
    "pycharm": {
     "name": "#%%\n"
    }
   }
  },
  {
   "cell_type": "code",
   "execution_count": 88,
   "outputs": [
    {
     "data": {
      "text/plain": "0.5307753879931036"
     },
     "execution_count": 88,
     "metadata": {},
     "output_type": "execute_result"
    }
   ],
   "source": [
    "df.at[dates[17],\"A\"]"
   ],
   "metadata": {
    "collapsed": false,
    "pycharm": {
     "name": "#%%\n"
    }
   }
  },
  {
   "cell_type": "code",
   "execution_count": 95,
   "outputs": [
    {
     "data": {
      "text/plain": "                   A         B         C         D\n2023-01-01 -0.882984  0.492571 -1.052183  0.002512\n2023-01-02  1.047020  0.739305 -1.194248 -0.681416\n2023-01-03  0.508919  1.617742 -0.460865  2.584497\n2023-01-04 -0.801649  0.131898  0.772547 -0.388101\n2023-01-05 -0.513948 -1.528296  0.858368 -0.470824",
      "text/html": "<div>\n<style scoped>\n    .dataframe tbody tr th:only-of-type {\n        vertical-align: middle;\n    }\n\n    .dataframe tbody tr th {\n        vertical-align: top;\n    }\n\n    .dataframe thead th {\n        text-align: right;\n    }\n</style>\n<table border=\"1\" class=\"dataframe\">\n  <thead>\n    <tr style=\"text-align: right;\">\n      <th></th>\n      <th>A</th>\n      <th>B</th>\n      <th>C</th>\n      <th>D</th>\n    </tr>\n  </thead>\n  <tbody>\n    <tr>\n      <th>2023-01-01</th>\n      <td>-0.882984</td>\n      <td>0.492571</td>\n      <td>-1.052183</td>\n      <td>0.002512</td>\n    </tr>\n    <tr>\n      <th>2023-01-02</th>\n      <td>1.047020</td>\n      <td>0.739305</td>\n      <td>-1.194248</td>\n      <td>-0.681416</td>\n    </tr>\n    <tr>\n      <th>2023-01-03</th>\n      <td>0.508919</td>\n      <td>1.617742</td>\n      <td>-0.460865</td>\n      <td>2.584497</td>\n    </tr>\n    <tr>\n      <th>2023-01-04</th>\n      <td>-0.801649</td>\n      <td>0.131898</td>\n      <td>0.772547</td>\n      <td>-0.388101</td>\n    </tr>\n    <tr>\n      <th>2023-01-05</th>\n      <td>-0.513948</td>\n      <td>-1.528296</td>\n      <td>0.858368</td>\n      <td>-0.470824</td>\n    </tr>\n  </tbody>\n</table>\n</div>"
     },
     "execution_count": 95,
     "metadata": {},
     "output_type": "execute_result"
    }
   ],
   "source": [
    "df.iloc[0:5, :]"
   ],
   "metadata": {
    "collapsed": false,
    "pycharm": {
     "name": "#%%\n"
    }
   }
  },
  {
   "cell_type": "code",
   "execution_count": 99,
   "outputs": [
    {
     "data": {
      "text/plain": "                   A\n2023-01-01 -0.882984\n2023-01-02  1.047020\n2023-01-03  0.508919\n2023-01-04 -0.801649\n2023-01-05 -0.513948\n2023-01-06 -0.204313\n2023-01-07 -1.177268\n2023-01-08  0.848492\n2023-01-09  2.274555\n2023-01-10 -0.698696\n2023-01-11 -0.397225\n2023-01-12 -0.745329\n2023-01-13 -0.210038\n2023-01-14 -0.912284\n2023-01-15  0.087768\n2023-01-16 -1.180511\n2023-01-17 -0.431363\n2023-01-18  0.530775\n2023-01-19 -0.575822\n2023-01-20  1.234565\n2023-01-21 -1.997427\n2023-01-22 -0.088016\n2023-01-23 -0.673558\n2023-01-24  0.175554\n2023-01-25 -1.339656\n2023-01-26 -1.614238\n2023-01-27  0.790750\n2023-01-28  0.368501\n2023-01-29  0.241534\n2023-01-30 -0.323865",
      "text/html": "<div>\n<style scoped>\n    .dataframe tbody tr th:only-of-type {\n        vertical-align: middle;\n    }\n\n    .dataframe tbody tr th {\n        vertical-align: top;\n    }\n\n    .dataframe thead th {\n        text-align: right;\n    }\n</style>\n<table border=\"1\" class=\"dataframe\">\n  <thead>\n    <tr style=\"text-align: right;\">\n      <th></th>\n      <th>A</th>\n    </tr>\n  </thead>\n  <tbody>\n    <tr>\n      <th>2023-01-01</th>\n      <td>-0.882984</td>\n    </tr>\n    <tr>\n      <th>2023-01-02</th>\n      <td>1.047020</td>\n    </tr>\n    <tr>\n      <th>2023-01-03</th>\n      <td>0.508919</td>\n    </tr>\n    <tr>\n      <th>2023-01-04</th>\n      <td>-0.801649</td>\n    </tr>\n    <tr>\n      <th>2023-01-05</th>\n      <td>-0.513948</td>\n    </tr>\n    <tr>\n      <th>2023-01-06</th>\n      <td>-0.204313</td>\n    </tr>\n    <tr>\n      <th>2023-01-07</th>\n      <td>-1.177268</td>\n    </tr>\n    <tr>\n      <th>2023-01-08</th>\n      <td>0.848492</td>\n    </tr>\n    <tr>\n      <th>2023-01-09</th>\n      <td>2.274555</td>\n    </tr>\n    <tr>\n      <th>2023-01-10</th>\n      <td>-0.698696</td>\n    </tr>\n    <tr>\n      <th>2023-01-11</th>\n      <td>-0.397225</td>\n    </tr>\n    <tr>\n      <th>2023-01-12</th>\n      <td>-0.745329</td>\n    </tr>\n    <tr>\n      <th>2023-01-13</th>\n      <td>-0.210038</td>\n    </tr>\n    <tr>\n      <th>2023-01-14</th>\n      <td>-0.912284</td>\n    </tr>\n    <tr>\n      <th>2023-01-15</th>\n      <td>0.087768</td>\n    </tr>\n    <tr>\n      <th>2023-01-16</th>\n      <td>-1.180511</td>\n    </tr>\n    <tr>\n      <th>2023-01-17</th>\n      <td>-0.431363</td>\n    </tr>\n    <tr>\n      <th>2023-01-18</th>\n      <td>0.530775</td>\n    </tr>\n    <tr>\n      <th>2023-01-19</th>\n      <td>-0.575822</td>\n    </tr>\n    <tr>\n      <th>2023-01-20</th>\n      <td>1.234565</td>\n    </tr>\n    <tr>\n      <th>2023-01-21</th>\n      <td>-1.997427</td>\n    </tr>\n    <tr>\n      <th>2023-01-22</th>\n      <td>-0.088016</td>\n    </tr>\n    <tr>\n      <th>2023-01-23</th>\n      <td>-0.673558</td>\n    </tr>\n    <tr>\n      <th>2023-01-24</th>\n      <td>0.175554</td>\n    </tr>\n    <tr>\n      <th>2023-01-25</th>\n      <td>-1.339656</td>\n    </tr>\n    <tr>\n      <th>2023-01-26</th>\n      <td>-1.614238</td>\n    </tr>\n    <tr>\n      <th>2023-01-27</th>\n      <td>0.790750</td>\n    </tr>\n    <tr>\n      <th>2023-01-28</th>\n      <td>0.368501</td>\n    </tr>\n    <tr>\n      <th>2023-01-29</th>\n      <td>0.241534</td>\n    </tr>\n    <tr>\n      <th>2023-01-30</th>\n      <td>-0.323865</td>\n    </tr>\n  </tbody>\n</table>\n</div>"
     },
     "execution_count": 99,
     "metadata": {},
     "output_type": "execute_result"
    }
   ],
   "source": [
    "df.iloc[:, :1]"
   ],
   "metadata": {
    "collapsed": false,
    "pycharm": {
     "name": "#%%\n"
    }
   }
  },
  {
   "cell_type": "code",
   "execution_count": 107,
   "outputs": [
    {
     "data": {
      "text/plain": "                   A         B         C         D\n2023-01-09  2.274555 -0.849919  0.079231 -0.462911\n2023-01-20  1.234565  1.131698 -0.662072 -0.238713",
      "text/html": "<div>\n<style scoped>\n    .dataframe tbody tr th:only-of-type {\n        vertical-align: middle;\n    }\n\n    .dataframe tbody tr th {\n        vertical-align: top;\n    }\n\n    .dataframe thead th {\n        text-align: right;\n    }\n</style>\n<table border=\"1\" class=\"dataframe\">\n  <thead>\n    <tr style=\"text-align: right;\">\n      <th></th>\n      <th>A</th>\n      <th>B</th>\n      <th>C</th>\n      <th>D</th>\n    </tr>\n  </thead>\n  <tbody>\n    <tr>\n      <th>2023-01-09</th>\n      <td>2.274555</td>\n      <td>-0.849919</td>\n      <td>0.079231</td>\n      <td>-0.462911</td>\n    </tr>\n    <tr>\n      <th>2023-01-20</th>\n      <td>1.234565</td>\n      <td>1.131698</td>\n      <td>-0.662072</td>\n      <td>-0.238713</td>\n    </tr>\n  </tbody>\n</table>\n</div>"
     },
     "execution_count": 107,
     "metadata": {},
     "output_type": "execute_result"
    }
   ],
   "source": [
    "#using boolean operators for criteria\n",
    "df[df[\"A\"] > 1.2]"
   ],
   "metadata": {
    "collapsed": false,
    "pycharm": {
     "name": "#%%\n"
    }
   }
  },
  {
   "cell_type": "code",
   "execution_count": 109,
   "outputs": [
    {
     "data": {
      "text/plain": "                   A         B         C         D\n2023-01-01       NaN  0.492571       NaN  0.002512\n2023-01-02  1.047020  0.739305       NaN       NaN\n2023-01-03  0.508919  1.617742       NaN  2.584497\n2023-01-04       NaN  0.131898  0.772547       NaN\n2023-01-05       NaN       NaN  0.858368       NaN\n2023-01-06       NaN  0.050675       NaN       NaN\n2023-01-07       NaN  1.107909  0.361844       NaN\n2023-01-08  0.848492       NaN       NaN  0.518982\n2023-01-09  2.274555       NaN  0.079231       NaN\n2023-01-10       NaN  1.774935       NaN       NaN\n2023-01-11       NaN       NaN       NaN  0.683139\n2023-01-12       NaN       NaN       NaN       NaN\n2023-01-13       NaN  1.595001       NaN  0.005108\n2023-01-14       NaN       NaN  0.661786       NaN\n2023-01-15  0.087768  1.115657  0.804005  0.207032\n2023-01-16       NaN  0.128649       NaN  0.546148\n2023-01-17       NaN       NaN  2.249220  0.036143\n2023-01-18  0.530775  0.149690       NaN       NaN\n2023-01-19       NaN       NaN  0.238443       NaN\n2023-01-20  1.234565  1.131698       NaN       NaN\n2023-01-21       NaN  0.953925       NaN  0.691014\n2023-01-22       NaN       NaN       NaN  1.826066\n2023-01-23       NaN  0.893967  1.808998       NaN\n2023-01-24  0.175554       NaN       NaN       NaN\n2023-01-25       NaN       NaN  0.326060  0.902816\n2023-01-26       NaN       NaN  0.509136  1.083919\n2023-01-27  0.790750       NaN  1.161295  0.325749\n2023-01-28  0.368501  0.082505  0.178071  1.750669\n2023-01-29  0.241534       NaN  0.185802       NaN\n2023-01-30       NaN  0.108125       NaN       NaN",
      "text/html": "<div>\n<style scoped>\n    .dataframe tbody tr th:only-of-type {\n        vertical-align: middle;\n    }\n\n    .dataframe tbody tr th {\n        vertical-align: top;\n    }\n\n    .dataframe thead th {\n        text-align: right;\n    }\n</style>\n<table border=\"1\" class=\"dataframe\">\n  <thead>\n    <tr style=\"text-align: right;\">\n      <th></th>\n      <th>A</th>\n      <th>B</th>\n      <th>C</th>\n      <th>D</th>\n    </tr>\n  </thead>\n  <tbody>\n    <tr>\n      <th>2023-01-01</th>\n      <td>NaN</td>\n      <td>0.492571</td>\n      <td>NaN</td>\n      <td>0.002512</td>\n    </tr>\n    <tr>\n      <th>2023-01-02</th>\n      <td>1.047020</td>\n      <td>0.739305</td>\n      <td>NaN</td>\n      <td>NaN</td>\n    </tr>\n    <tr>\n      <th>2023-01-03</th>\n      <td>0.508919</td>\n      <td>1.617742</td>\n      <td>NaN</td>\n      <td>2.584497</td>\n    </tr>\n    <tr>\n      <th>2023-01-04</th>\n      <td>NaN</td>\n      <td>0.131898</td>\n      <td>0.772547</td>\n      <td>NaN</td>\n    </tr>\n    <tr>\n      <th>2023-01-05</th>\n      <td>NaN</td>\n      <td>NaN</td>\n      <td>0.858368</td>\n      <td>NaN</td>\n    </tr>\n    <tr>\n      <th>2023-01-06</th>\n      <td>NaN</td>\n      <td>0.050675</td>\n      <td>NaN</td>\n      <td>NaN</td>\n    </tr>\n    <tr>\n      <th>2023-01-07</th>\n      <td>NaN</td>\n      <td>1.107909</td>\n      <td>0.361844</td>\n      <td>NaN</td>\n    </tr>\n    <tr>\n      <th>2023-01-08</th>\n      <td>0.848492</td>\n      <td>NaN</td>\n      <td>NaN</td>\n      <td>0.518982</td>\n    </tr>\n    <tr>\n      <th>2023-01-09</th>\n      <td>2.274555</td>\n      <td>NaN</td>\n      <td>0.079231</td>\n      <td>NaN</td>\n    </tr>\n    <tr>\n      <th>2023-01-10</th>\n      <td>NaN</td>\n      <td>1.774935</td>\n      <td>NaN</td>\n      <td>NaN</td>\n    </tr>\n    <tr>\n      <th>2023-01-11</th>\n      <td>NaN</td>\n      <td>NaN</td>\n      <td>NaN</td>\n      <td>0.683139</td>\n    </tr>\n    <tr>\n      <th>2023-01-12</th>\n      <td>NaN</td>\n      <td>NaN</td>\n      <td>NaN</td>\n      <td>NaN</td>\n    </tr>\n    <tr>\n      <th>2023-01-13</th>\n      <td>NaN</td>\n      <td>1.595001</td>\n      <td>NaN</td>\n      <td>0.005108</td>\n    </tr>\n    <tr>\n      <th>2023-01-14</th>\n      <td>NaN</td>\n      <td>NaN</td>\n      <td>0.661786</td>\n      <td>NaN</td>\n    </tr>\n    <tr>\n      <th>2023-01-15</th>\n      <td>0.087768</td>\n      <td>1.115657</td>\n      <td>0.804005</td>\n      <td>0.207032</td>\n    </tr>\n    <tr>\n      <th>2023-01-16</th>\n      <td>NaN</td>\n      <td>0.128649</td>\n      <td>NaN</td>\n      <td>0.546148</td>\n    </tr>\n    <tr>\n      <th>2023-01-17</th>\n      <td>NaN</td>\n      <td>NaN</td>\n      <td>2.249220</td>\n      <td>0.036143</td>\n    </tr>\n    <tr>\n      <th>2023-01-18</th>\n      <td>0.530775</td>\n      <td>0.149690</td>\n      <td>NaN</td>\n      <td>NaN</td>\n    </tr>\n    <tr>\n      <th>2023-01-19</th>\n      <td>NaN</td>\n      <td>NaN</td>\n      <td>0.238443</td>\n      <td>NaN</td>\n    </tr>\n    <tr>\n      <th>2023-01-20</th>\n      <td>1.234565</td>\n      <td>1.131698</td>\n      <td>NaN</td>\n      <td>NaN</td>\n    </tr>\n    <tr>\n      <th>2023-01-21</th>\n      <td>NaN</td>\n      <td>0.953925</td>\n      <td>NaN</td>\n      <td>0.691014</td>\n    </tr>\n    <tr>\n      <th>2023-01-22</th>\n      <td>NaN</td>\n      <td>NaN</td>\n      <td>NaN</td>\n      <td>1.826066</td>\n    </tr>\n    <tr>\n      <th>2023-01-23</th>\n      <td>NaN</td>\n      <td>0.893967</td>\n      <td>1.808998</td>\n      <td>NaN</td>\n    </tr>\n    <tr>\n      <th>2023-01-24</th>\n      <td>0.175554</td>\n      <td>NaN</td>\n      <td>NaN</td>\n      <td>NaN</td>\n    </tr>\n    <tr>\n      <th>2023-01-25</th>\n      <td>NaN</td>\n      <td>NaN</td>\n      <td>0.326060</td>\n      <td>0.902816</td>\n    </tr>\n    <tr>\n      <th>2023-01-26</th>\n      <td>NaN</td>\n      <td>NaN</td>\n      <td>0.509136</td>\n      <td>1.083919</td>\n    </tr>\n    <tr>\n      <th>2023-01-27</th>\n      <td>0.790750</td>\n      <td>NaN</td>\n      <td>1.161295</td>\n      <td>0.325749</td>\n    </tr>\n    <tr>\n      <th>2023-01-28</th>\n      <td>0.368501</td>\n      <td>0.082505</td>\n      <td>0.178071</td>\n      <td>1.750669</td>\n    </tr>\n    <tr>\n      <th>2023-01-29</th>\n      <td>0.241534</td>\n      <td>NaN</td>\n      <td>0.185802</td>\n      <td>NaN</td>\n    </tr>\n    <tr>\n      <th>2023-01-30</th>\n      <td>NaN</td>\n      <td>0.108125</td>\n      <td>NaN</td>\n      <td>NaN</td>\n    </tr>\n  </tbody>\n</table>\n</div>"
     },
     "execution_count": 109,
     "metadata": {},
     "output_type": "execute_result"
    }
   ],
   "source": [
    "#for whole data frame\n",
    "df[df > 0]"
   ],
   "metadata": {
    "collapsed": false,
    "pycharm": {
     "name": "#%%\n"
    }
   }
  },
  {
   "cell_type": "code",
   "execution_count": 112,
   "outputs": [
    {
     "data": {
      "text/plain": "                   A         B         C         D\n2023-01-01 -0.882984  0.492571 -1.052183  0.002512\n2023-01-02  1.047020  0.739305 -1.194248 -0.681416\n2023-01-03  0.508919  1.617742 -0.460865  2.584497\n2023-01-04 -0.801649  0.131898  0.772547 -0.388101\n2023-01-05 -0.513948 -1.528296  0.858368 -0.470824\n2023-01-06 -0.204313  0.050675 -0.827056 -0.088165\n2023-01-07 -1.177268  1.107909  0.361844 -1.292428\n2023-01-08  0.848492 -1.471600 -1.722289  0.518982\n2023-01-09  2.274555 -0.849919  0.079231 -0.462911\n2023-01-10 -0.698696  1.774935 -0.795400 -0.165599\n2023-01-11 -0.397225 -0.705440 -0.670563  0.683139\n2023-01-12 -0.745329 -0.133100 -0.698459 -0.214659\n2023-01-13 -0.210038  1.595001 -1.069953  0.005108\n2023-01-14 -0.912284 -1.742425  0.661786 -0.087189\n2023-01-15  0.087768  1.115657  0.804005  0.207032\n2023-01-16 -1.180511  0.128649 -1.143905  0.546148\n2023-01-17 -0.431363 -1.133710  2.249220  0.036143\n2023-01-18  0.530775  0.149690 -0.004461 -1.786270\n2023-01-19 -0.575822 -2.150647  0.238443 -0.031255\n2023-01-20  1.234565  1.131698 -0.662072 -0.238713\n2023-01-21 -1.997427  0.953925 -0.066815  0.691014\n2023-01-22 -0.088016 -0.621893 -0.200423  1.826066\n2023-01-23 -0.673558  0.893967  1.808998 -0.169222\n2023-01-24  0.175554 -0.506150 -0.719203 -0.234602\n2023-01-25 -1.339656 -0.162980  0.326060  0.902816\n2023-01-26 -1.614238 -0.861238  0.509136  1.083919\n2023-01-27  0.790750 -0.323677  1.161295  0.325749\n2023-01-28  0.368501  0.082505  0.178071  1.750669\n2023-01-29  0.241534 -0.018960  0.185802 -0.205038\n2023-01-30 -0.323865  0.108125 -0.352725 -0.160106",
      "text/html": "<div>\n<style scoped>\n    .dataframe tbody tr th:only-of-type {\n        vertical-align: middle;\n    }\n\n    .dataframe tbody tr th {\n        vertical-align: top;\n    }\n\n    .dataframe thead th {\n        text-align: right;\n    }\n</style>\n<table border=\"1\" class=\"dataframe\">\n  <thead>\n    <tr style=\"text-align: right;\">\n      <th></th>\n      <th>A</th>\n      <th>B</th>\n      <th>C</th>\n      <th>D</th>\n    </tr>\n  </thead>\n  <tbody>\n    <tr>\n      <th>2023-01-01</th>\n      <td>-0.882984</td>\n      <td>0.492571</td>\n      <td>-1.052183</td>\n      <td>0.002512</td>\n    </tr>\n    <tr>\n      <th>2023-01-02</th>\n      <td>1.047020</td>\n      <td>0.739305</td>\n      <td>-1.194248</td>\n      <td>-0.681416</td>\n    </tr>\n    <tr>\n      <th>2023-01-03</th>\n      <td>0.508919</td>\n      <td>1.617742</td>\n      <td>-0.460865</td>\n      <td>2.584497</td>\n    </tr>\n    <tr>\n      <th>2023-01-04</th>\n      <td>-0.801649</td>\n      <td>0.131898</td>\n      <td>0.772547</td>\n      <td>-0.388101</td>\n    </tr>\n    <tr>\n      <th>2023-01-05</th>\n      <td>-0.513948</td>\n      <td>-1.528296</td>\n      <td>0.858368</td>\n      <td>-0.470824</td>\n    </tr>\n    <tr>\n      <th>2023-01-06</th>\n      <td>-0.204313</td>\n      <td>0.050675</td>\n      <td>-0.827056</td>\n      <td>-0.088165</td>\n    </tr>\n    <tr>\n      <th>2023-01-07</th>\n      <td>-1.177268</td>\n      <td>1.107909</td>\n      <td>0.361844</td>\n      <td>-1.292428</td>\n    </tr>\n    <tr>\n      <th>2023-01-08</th>\n      <td>0.848492</td>\n      <td>-1.471600</td>\n      <td>-1.722289</td>\n      <td>0.518982</td>\n    </tr>\n    <tr>\n      <th>2023-01-09</th>\n      <td>2.274555</td>\n      <td>-0.849919</td>\n      <td>0.079231</td>\n      <td>-0.462911</td>\n    </tr>\n    <tr>\n      <th>2023-01-10</th>\n      <td>-0.698696</td>\n      <td>1.774935</td>\n      <td>-0.795400</td>\n      <td>-0.165599</td>\n    </tr>\n    <tr>\n      <th>2023-01-11</th>\n      <td>-0.397225</td>\n      <td>-0.705440</td>\n      <td>-0.670563</td>\n      <td>0.683139</td>\n    </tr>\n    <tr>\n      <th>2023-01-12</th>\n      <td>-0.745329</td>\n      <td>-0.133100</td>\n      <td>-0.698459</td>\n      <td>-0.214659</td>\n    </tr>\n    <tr>\n      <th>2023-01-13</th>\n      <td>-0.210038</td>\n      <td>1.595001</td>\n      <td>-1.069953</td>\n      <td>0.005108</td>\n    </tr>\n    <tr>\n      <th>2023-01-14</th>\n      <td>-0.912284</td>\n      <td>-1.742425</td>\n      <td>0.661786</td>\n      <td>-0.087189</td>\n    </tr>\n    <tr>\n      <th>2023-01-15</th>\n      <td>0.087768</td>\n      <td>1.115657</td>\n      <td>0.804005</td>\n      <td>0.207032</td>\n    </tr>\n    <tr>\n      <th>2023-01-16</th>\n      <td>-1.180511</td>\n      <td>0.128649</td>\n      <td>-1.143905</td>\n      <td>0.546148</td>\n    </tr>\n    <tr>\n      <th>2023-01-17</th>\n      <td>-0.431363</td>\n      <td>-1.133710</td>\n      <td>2.249220</td>\n      <td>0.036143</td>\n    </tr>\n    <tr>\n      <th>2023-01-18</th>\n      <td>0.530775</td>\n      <td>0.149690</td>\n      <td>-0.004461</td>\n      <td>-1.786270</td>\n    </tr>\n    <tr>\n      <th>2023-01-19</th>\n      <td>-0.575822</td>\n      <td>-2.150647</td>\n      <td>0.238443</td>\n      <td>-0.031255</td>\n    </tr>\n    <tr>\n      <th>2023-01-20</th>\n      <td>1.234565</td>\n      <td>1.131698</td>\n      <td>-0.662072</td>\n      <td>-0.238713</td>\n    </tr>\n    <tr>\n      <th>2023-01-21</th>\n      <td>-1.997427</td>\n      <td>0.953925</td>\n      <td>-0.066815</td>\n      <td>0.691014</td>\n    </tr>\n    <tr>\n      <th>2023-01-22</th>\n      <td>-0.088016</td>\n      <td>-0.621893</td>\n      <td>-0.200423</td>\n      <td>1.826066</td>\n    </tr>\n    <tr>\n      <th>2023-01-23</th>\n      <td>-0.673558</td>\n      <td>0.893967</td>\n      <td>1.808998</td>\n      <td>-0.169222</td>\n    </tr>\n    <tr>\n      <th>2023-01-24</th>\n      <td>0.175554</td>\n      <td>-0.506150</td>\n      <td>-0.719203</td>\n      <td>-0.234602</td>\n    </tr>\n    <tr>\n      <th>2023-01-25</th>\n      <td>-1.339656</td>\n      <td>-0.162980</td>\n      <td>0.326060</td>\n      <td>0.902816</td>\n    </tr>\n    <tr>\n      <th>2023-01-26</th>\n      <td>-1.614238</td>\n      <td>-0.861238</td>\n      <td>0.509136</td>\n      <td>1.083919</td>\n    </tr>\n    <tr>\n      <th>2023-01-27</th>\n      <td>0.790750</td>\n      <td>-0.323677</td>\n      <td>1.161295</td>\n      <td>0.325749</td>\n    </tr>\n    <tr>\n      <th>2023-01-28</th>\n      <td>0.368501</td>\n      <td>0.082505</td>\n      <td>0.178071</td>\n      <td>1.750669</td>\n    </tr>\n    <tr>\n      <th>2023-01-29</th>\n      <td>0.241534</td>\n      <td>-0.018960</td>\n      <td>0.185802</td>\n      <td>-0.205038</td>\n    </tr>\n    <tr>\n      <th>2023-01-30</th>\n      <td>-0.323865</td>\n      <td>0.108125</td>\n      <td>-0.352725</td>\n      <td>-0.160106</td>\n    </tr>\n  </tbody>\n</table>\n</div>"
     },
     "execution_count": 112,
     "metadata": {},
     "output_type": "execute_result"
    }
   ],
   "source": [
    "df3 = df.copy()\n",
    "df3"
   ],
   "metadata": {
    "collapsed": false,
    "pycharm": {
     "name": "#%%\n"
    }
   }
  },
  {
   "cell_type": "code",
   "execution_count": 117,
   "outputs": [
    {
     "data": {
      "text/plain": "                   A         B         C         D      E\n2023-01-01 -0.882984  0.492571 -1.052183  0.002512    one\n2023-01-02  1.047020  0.739305 -1.194248 -0.681416    two\n2023-01-03  0.508919  1.617742 -0.460865  2.584497  three\n2023-01-04 -0.801649  0.131898  0.772547 -0.388101   four\n2023-01-05 -0.513948 -1.528296  0.858368 -0.470824   five\n2023-01-06 -0.204313  0.050675 -0.827056 -0.088165    six\n2023-01-07 -1.177268  1.107909  0.361844 -1.292428    one\n2023-01-08  0.848492 -1.471600 -1.722289  0.518982    two\n2023-01-09  2.274555 -0.849919  0.079231 -0.462911  three\n2023-01-10 -0.698696  1.774935 -0.795400 -0.165599   four\n2023-01-11 -0.397225 -0.705440 -0.670563  0.683139   five\n2023-01-12 -0.745329 -0.133100 -0.698459 -0.214659    six\n2023-01-13 -0.210038  1.595001 -1.069953  0.005108    one\n2023-01-14 -0.912284 -1.742425  0.661786 -0.087189    two\n2023-01-15  0.087768  1.115657  0.804005  0.207032  three\n2023-01-16 -1.180511  0.128649 -1.143905  0.546148   four\n2023-01-17 -0.431363 -1.133710  2.249220  0.036143   five\n2023-01-18  0.530775  0.149690 -0.004461 -1.786270    six\n2023-01-19 -0.575822 -2.150647  0.238443 -0.031255    one\n2023-01-20  1.234565  1.131698 -0.662072 -0.238713    two\n2023-01-21 -1.997427  0.953925 -0.066815  0.691014  three\n2023-01-22 -0.088016 -0.621893 -0.200423  1.826066   four\n2023-01-23 -0.673558  0.893967  1.808998 -0.169222   five\n2023-01-24  0.175554 -0.506150 -0.719203 -0.234602    six\n2023-01-25 -1.339656 -0.162980  0.326060  0.902816    one\n2023-01-26 -1.614238 -0.861238  0.509136  1.083919    two\n2023-01-27  0.790750 -0.323677  1.161295  0.325749  three\n2023-01-28  0.368501  0.082505  0.178071  1.750669   four\n2023-01-29  0.241534 -0.018960  0.185802 -0.205038   five\n2023-01-30 -0.323865  0.108125 -0.352725 -0.160106    six",
      "text/html": "<div>\n<style scoped>\n    .dataframe tbody tr th:only-of-type {\n        vertical-align: middle;\n    }\n\n    .dataframe tbody tr th {\n        vertical-align: top;\n    }\n\n    .dataframe thead th {\n        text-align: right;\n    }\n</style>\n<table border=\"1\" class=\"dataframe\">\n  <thead>\n    <tr style=\"text-align: right;\">\n      <th></th>\n      <th>A</th>\n      <th>B</th>\n      <th>C</th>\n      <th>D</th>\n      <th>E</th>\n    </tr>\n  </thead>\n  <tbody>\n    <tr>\n      <th>2023-01-01</th>\n      <td>-0.882984</td>\n      <td>0.492571</td>\n      <td>-1.052183</td>\n      <td>0.002512</td>\n      <td>one</td>\n    </tr>\n    <tr>\n      <th>2023-01-02</th>\n      <td>1.047020</td>\n      <td>0.739305</td>\n      <td>-1.194248</td>\n      <td>-0.681416</td>\n      <td>two</td>\n    </tr>\n    <tr>\n      <th>2023-01-03</th>\n      <td>0.508919</td>\n      <td>1.617742</td>\n      <td>-0.460865</td>\n      <td>2.584497</td>\n      <td>three</td>\n    </tr>\n    <tr>\n      <th>2023-01-04</th>\n      <td>-0.801649</td>\n      <td>0.131898</td>\n      <td>0.772547</td>\n      <td>-0.388101</td>\n      <td>four</td>\n    </tr>\n    <tr>\n      <th>2023-01-05</th>\n      <td>-0.513948</td>\n      <td>-1.528296</td>\n      <td>0.858368</td>\n      <td>-0.470824</td>\n      <td>five</td>\n    </tr>\n    <tr>\n      <th>2023-01-06</th>\n      <td>-0.204313</td>\n      <td>0.050675</td>\n      <td>-0.827056</td>\n      <td>-0.088165</td>\n      <td>six</td>\n    </tr>\n    <tr>\n      <th>2023-01-07</th>\n      <td>-1.177268</td>\n      <td>1.107909</td>\n      <td>0.361844</td>\n      <td>-1.292428</td>\n      <td>one</td>\n    </tr>\n    <tr>\n      <th>2023-01-08</th>\n      <td>0.848492</td>\n      <td>-1.471600</td>\n      <td>-1.722289</td>\n      <td>0.518982</td>\n      <td>two</td>\n    </tr>\n    <tr>\n      <th>2023-01-09</th>\n      <td>2.274555</td>\n      <td>-0.849919</td>\n      <td>0.079231</td>\n      <td>-0.462911</td>\n      <td>three</td>\n    </tr>\n    <tr>\n      <th>2023-01-10</th>\n      <td>-0.698696</td>\n      <td>1.774935</td>\n      <td>-0.795400</td>\n      <td>-0.165599</td>\n      <td>four</td>\n    </tr>\n    <tr>\n      <th>2023-01-11</th>\n      <td>-0.397225</td>\n      <td>-0.705440</td>\n      <td>-0.670563</td>\n      <td>0.683139</td>\n      <td>five</td>\n    </tr>\n    <tr>\n      <th>2023-01-12</th>\n      <td>-0.745329</td>\n      <td>-0.133100</td>\n      <td>-0.698459</td>\n      <td>-0.214659</td>\n      <td>six</td>\n    </tr>\n    <tr>\n      <th>2023-01-13</th>\n      <td>-0.210038</td>\n      <td>1.595001</td>\n      <td>-1.069953</td>\n      <td>0.005108</td>\n      <td>one</td>\n    </tr>\n    <tr>\n      <th>2023-01-14</th>\n      <td>-0.912284</td>\n      <td>-1.742425</td>\n      <td>0.661786</td>\n      <td>-0.087189</td>\n      <td>two</td>\n    </tr>\n    <tr>\n      <th>2023-01-15</th>\n      <td>0.087768</td>\n      <td>1.115657</td>\n      <td>0.804005</td>\n      <td>0.207032</td>\n      <td>three</td>\n    </tr>\n    <tr>\n      <th>2023-01-16</th>\n      <td>-1.180511</td>\n      <td>0.128649</td>\n      <td>-1.143905</td>\n      <td>0.546148</td>\n      <td>four</td>\n    </tr>\n    <tr>\n      <th>2023-01-17</th>\n      <td>-0.431363</td>\n      <td>-1.133710</td>\n      <td>2.249220</td>\n      <td>0.036143</td>\n      <td>five</td>\n    </tr>\n    <tr>\n      <th>2023-01-18</th>\n      <td>0.530775</td>\n      <td>0.149690</td>\n      <td>-0.004461</td>\n      <td>-1.786270</td>\n      <td>six</td>\n    </tr>\n    <tr>\n      <th>2023-01-19</th>\n      <td>-0.575822</td>\n      <td>-2.150647</td>\n      <td>0.238443</td>\n      <td>-0.031255</td>\n      <td>one</td>\n    </tr>\n    <tr>\n      <th>2023-01-20</th>\n      <td>1.234565</td>\n      <td>1.131698</td>\n      <td>-0.662072</td>\n      <td>-0.238713</td>\n      <td>two</td>\n    </tr>\n    <tr>\n      <th>2023-01-21</th>\n      <td>-1.997427</td>\n      <td>0.953925</td>\n      <td>-0.066815</td>\n      <td>0.691014</td>\n      <td>three</td>\n    </tr>\n    <tr>\n      <th>2023-01-22</th>\n      <td>-0.088016</td>\n      <td>-0.621893</td>\n      <td>-0.200423</td>\n      <td>1.826066</td>\n      <td>four</td>\n    </tr>\n    <tr>\n      <th>2023-01-23</th>\n      <td>-0.673558</td>\n      <td>0.893967</td>\n      <td>1.808998</td>\n      <td>-0.169222</td>\n      <td>five</td>\n    </tr>\n    <tr>\n      <th>2023-01-24</th>\n      <td>0.175554</td>\n      <td>-0.506150</td>\n      <td>-0.719203</td>\n      <td>-0.234602</td>\n      <td>six</td>\n    </tr>\n    <tr>\n      <th>2023-01-25</th>\n      <td>-1.339656</td>\n      <td>-0.162980</td>\n      <td>0.326060</td>\n      <td>0.902816</td>\n      <td>one</td>\n    </tr>\n    <tr>\n      <th>2023-01-26</th>\n      <td>-1.614238</td>\n      <td>-0.861238</td>\n      <td>0.509136</td>\n      <td>1.083919</td>\n      <td>two</td>\n    </tr>\n    <tr>\n      <th>2023-01-27</th>\n      <td>0.790750</td>\n      <td>-0.323677</td>\n      <td>1.161295</td>\n      <td>0.325749</td>\n      <td>three</td>\n    </tr>\n    <tr>\n      <th>2023-01-28</th>\n      <td>0.368501</td>\n      <td>0.082505</td>\n      <td>0.178071</td>\n      <td>1.750669</td>\n      <td>four</td>\n    </tr>\n    <tr>\n      <th>2023-01-29</th>\n      <td>0.241534</td>\n      <td>-0.018960</td>\n      <td>0.185802</td>\n      <td>-0.205038</td>\n      <td>five</td>\n    </tr>\n    <tr>\n      <th>2023-01-30</th>\n      <td>-0.323865</td>\n      <td>0.108125</td>\n      <td>-0.352725</td>\n      <td>-0.160106</td>\n      <td>six</td>\n    </tr>\n  </tbody>\n</table>\n</div>"
     },
     "execution_count": 117,
     "metadata": {},
     "output_type": "execute_result"
    }
   ],
   "source": [
    "df3[\"E\"] = [\"one\", \"two\", \"three\", \"four\", \"five\", \"six\",\"one\", \"two\", \"three\", \"four\", \"five\", \"six\",\n",
    "            \"one\", \"two\", \"three\", \"four\", \"five\", \"six\",\"one\", \"two\", \"three\", \"four\", \"five\", \"six\",\"one\", \"two\", \"three\", \"four\", \"five\", \"six\" ]\n",
    "df3"
   ],
   "metadata": {
    "collapsed": false,
    "pycharm": {
     "name": "#%%\n"
    }
   }
  },
  {
   "cell_type": "code",
   "execution_count": 119,
   "outputs": [
    {
     "data": {
      "text/plain": "                   A         B         C         D      E  Summation\n2023-01-01 -0.882984  0.492571 -1.052183  0.002512    one  -1.440084\n2023-01-02  1.047020  0.739305 -1.194248 -0.681416    two  -0.089339\n2023-01-03  0.508919  1.617742 -0.460865  2.584497  three   4.250294\n2023-01-04 -0.801649  0.131898  0.772547 -0.388101   four  -0.285306\n2023-01-05 -0.513948 -1.528296  0.858368 -0.470824   five  -1.654699\n2023-01-06 -0.204313  0.050675 -0.827056 -0.088165    six  -1.068859\n2023-01-07 -1.177268  1.107909  0.361844 -1.292428    one  -0.999943\n2023-01-08  0.848492 -1.471600 -1.722289  0.518982    two  -1.826415\n2023-01-09  2.274555 -0.849919  0.079231 -0.462911  three   1.040956\n2023-01-10 -0.698696  1.774935 -0.795400 -0.165599   four   0.115241\n2023-01-11 -0.397225 -0.705440 -0.670563  0.683139   five  -1.090090\n2023-01-12 -0.745329 -0.133100 -0.698459 -0.214659    six  -1.791547\n2023-01-13 -0.210038  1.595001 -1.069953  0.005108    one   0.320118\n2023-01-14 -0.912284 -1.742425  0.661786 -0.087189    two  -2.080112\n2023-01-15  0.087768  1.115657  0.804005  0.207032  three   2.214462\n2023-01-16 -1.180511  0.128649 -1.143905  0.546148   four  -1.649619\n2023-01-17 -0.431363 -1.133710  2.249220  0.036143   five   0.720289\n2023-01-18  0.530775  0.149690 -0.004461 -1.786270    six  -1.110265\n2023-01-19 -0.575822 -2.150647  0.238443 -0.031255    one  -2.519281\n2023-01-20  1.234565  1.131698 -0.662072 -0.238713    two   1.465478\n2023-01-21 -1.997427  0.953925 -0.066815  0.691014  three  -0.419304\n2023-01-22 -0.088016 -0.621893 -0.200423  1.826066   four   0.915735\n2023-01-23 -0.673558  0.893967  1.808998 -0.169222   five   1.860186\n2023-01-24  0.175554 -0.506150 -0.719203 -0.234602    six  -1.284401\n2023-01-25 -1.339656 -0.162980  0.326060  0.902816    one  -0.273760\n2023-01-26 -1.614238 -0.861238  0.509136  1.083919    two  -0.882421\n2023-01-27  0.790750 -0.323677  1.161295  0.325749  three   1.954116\n2023-01-28  0.368501  0.082505  0.178071  1.750669   four   2.379746\n2023-01-29  0.241534 -0.018960  0.185802 -0.205038   five   0.203338\n2023-01-30 -0.323865  0.108125 -0.352725 -0.160106    six  -0.728571",
      "text/html": "<div>\n<style scoped>\n    .dataframe tbody tr th:only-of-type {\n        vertical-align: middle;\n    }\n\n    .dataframe tbody tr th {\n        vertical-align: top;\n    }\n\n    .dataframe thead th {\n        text-align: right;\n    }\n</style>\n<table border=\"1\" class=\"dataframe\">\n  <thead>\n    <tr style=\"text-align: right;\">\n      <th></th>\n      <th>A</th>\n      <th>B</th>\n      <th>C</th>\n      <th>D</th>\n      <th>E</th>\n      <th>Summation</th>\n    </tr>\n  </thead>\n  <tbody>\n    <tr>\n      <th>2023-01-01</th>\n      <td>-0.882984</td>\n      <td>0.492571</td>\n      <td>-1.052183</td>\n      <td>0.002512</td>\n      <td>one</td>\n      <td>-1.440084</td>\n    </tr>\n    <tr>\n      <th>2023-01-02</th>\n      <td>1.047020</td>\n      <td>0.739305</td>\n      <td>-1.194248</td>\n      <td>-0.681416</td>\n      <td>two</td>\n      <td>-0.089339</td>\n    </tr>\n    <tr>\n      <th>2023-01-03</th>\n      <td>0.508919</td>\n      <td>1.617742</td>\n      <td>-0.460865</td>\n      <td>2.584497</td>\n      <td>three</td>\n      <td>4.250294</td>\n    </tr>\n    <tr>\n      <th>2023-01-04</th>\n      <td>-0.801649</td>\n      <td>0.131898</td>\n      <td>0.772547</td>\n      <td>-0.388101</td>\n      <td>four</td>\n      <td>-0.285306</td>\n    </tr>\n    <tr>\n      <th>2023-01-05</th>\n      <td>-0.513948</td>\n      <td>-1.528296</td>\n      <td>0.858368</td>\n      <td>-0.470824</td>\n      <td>five</td>\n      <td>-1.654699</td>\n    </tr>\n    <tr>\n      <th>2023-01-06</th>\n      <td>-0.204313</td>\n      <td>0.050675</td>\n      <td>-0.827056</td>\n      <td>-0.088165</td>\n      <td>six</td>\n      <td>-1.068859</td>\n    </tr>\n    <tr>\n      <th>2023-01-07</th>\n      <td>-1.177268</td>\n      <td>1.107909</td>\n      <td>0.361844</td>\n      <td>-1.292428</td>\n      <td>one</td>\n      <td>-0.999943</td>\n    </tr>\n    <tr>\n      <th>2023-01-08</th>\n      <td>0.848492</td>\n      <td>-1.471600</td>\n      <td>-1.722289</td>\n      <td>0.518982</td>\n      <td>two</td>\n      <td>-1.826415</td>\n    </tr>\n    <tr>\n      <th>2023-01-09</th>\n      <td>2.274555</td>\n      <td>-0.849919</td>\n      <td>0.079231</td>\n      <td>-0.462911</td>\n      <td>three</td>\n      <td>1.040956</td>\n    </tr>\n    <tr>\n      <th>2023-01-10</th>\n      <td>-0.698696</td>\n      <td>1.774935</td>\n      <td>-0.795400</td>\n      <td>-0.165599</td>\n      <td>four</td>\n      <td>0.115241</td>\n    </tr>\n    <tr>\n      <th>2023-01-11</th>\n      <td>-0.397225</td>\n      <td>-0.705440</td>\n      <td>-0.670563</td>\n      <td>0.683139</td>\n      <td>five</td>\n      <td>-1.090090</td>\n    </tr>\n    <tr>\n      <th>2023-01-12</th>\n      <td>-0.745329</td>\n      <td>-0.133100</td>\n      <td>-0.698459</td>\n      <td>-0.214659</td>\n      <td>six</td>\n      <td>-1.791547</td>\n    </tr>\n    <tr>\n      <th>2023-01-13</th>\n      <td>-0.210038</td>\n      <td>1.595001</td>\n      <td>-1.069953</td>\n      <td>0.005108</td>\n      <td>one</td>\n      <td>0.320118</td>\n    </tr>\n    <tr>\n      <th>2023-01-14</th>\n      <td>-0.912284</td>\n      <td>-1.742425</td>\n      <td>0.661786</td>\n      <td>-0.087189</td>\n      <td>two</td>\n      <td>-2.080112</td>\n    </tr>\n    <tr>\n      <th>2023-01-15</th>\n      <td>0.087768</td>\n      <td>1.115657</td>\n      <td>0.804005</td>\n      <td>0.207032</td>\n      <td>three</td>\n      <td>2.214462</td>\n    </tr>\n    <tr>\n      <th>2023-01-16</th>\n      <td>-1.180511</td>\n      <td>0.128649</td>\n      <td>-1.143905</td>\n      <td>0.546148</td>\n      <td>four</td>\n      <td>-1.649619</td>\n    </tr>\n    <tr>\n      <th>2023-01-17</th>\n      <td>-0.431363</td>\n      <td>-1.133710</td>\n      <td>2.249220</td>\n      <td>0.036143</td>\n      <td>five</td>\n      <td>0.720289</td>\n    </tr>\n    <tr>\n      <th>2023-01-18</th>\n      <td>0.530775</td>\n      <td>0.149690</td>\n      <td>-0.004461</td>\n      <td>-1.786270</td>\n      <td>six</td>\n      <td>-1.110265</td>\n    </tr>\n    <tr>\n      <th>2023-01-19</th>\n      <td>-0.575822</td>\n      <td>-2.150647</td>\n      <td>0.238443</td>\n      <td>-0.031255</td>\n      <td>one</td>\n      <td>-2.519281</td>\n    </tr>\n    <tr>\n      <th>2023-01-20</th>\n      <td>1.234565</td>\n      <td>1.131698</td>\n      <td>-0.662072</td>\n      <td>-0.238713</td>\n      <td>two</td>\n      <td>1.465478</td>\n    </tr>\n    <tr>\n      <th>2023-01-21</th>\n      <td>-1.997427</td>\n      <td>0.953925</td>\n      <td>-0.066815</td>\n      <td>0.691014</td>\n      <td>three</td>\n      <td>-0.419304</td>\n    </tr>\n    <tr>\n      <th>2023-01-22</th>\n      <td>-0.088016</td>\n      <td>-0.621893</td>\n      <td>-0.200423</td>\n      <td>1.826066</td>\n      <td>four</td>\n      <td>0.915735</td>\n    </tr>\n    <tr>\n      <th>2023-01-23</th>\n      <td>-0.673558</td>\n      <td>0.893967</td>\n      <td>1.808998</td>\n      <td>-0.169222</td>\n      <td>five</td>\n      <td>1.860186</td>\n    </tr>\n    <tr>\n      <th>2023-01-24</th>\n      <td>0.175554</td>\n      <td>-0.506150</td>\n      <td>-0.719203</td>\n      <td>-0.234602</td>\n      <td>six</td>\n      <td>-1.284401</td>\n    </tr>\n    <tr>\n      <th>2023-01-25</th>\n      <td>-1.339656</td>\n      <td>-0.162980</td>\n      <td>0.326060</td>\n      <td>0.902816</td>\n      <td>one</td>\n      <td>-0.273760</td>\n    </tr>\n    <tr>\n      <th>2023-01-26</th>\n      <td>-1.614238</td>\n      <td>-0.861238</td>\n      <td>0.509136</td>\n      <td>1.083919</td>\n      <td>two</td>\n      <td>-0.882421</td>\n    </tr>\n    <tr>\n      <th>2023-01-27</th>\n      <td>0.790750</td>\n      <td>-0.323677</td>\n      <td>1.161295</td>\n      <td>0.325749</td>\n      <td>three</td>\n      <td>1.954116</td>\n    </tr>\n    <tr>\n      <th>2023-01-28</th>\n      <td>0.368501</td>\n      <td>0.082505</td>\n      <td>0.178071</td>\n      <td>1.750669</td>\n      <td>four</td>\n      <td>2.379746</td>\n    </tr>\n    <tr>\n      <th>2023-01-29</th>\n      <td>0.241534</td>\n      <td>-0.018960</td>\n      <td>0.185802</td>\n      <td>-0.205038</td>\n      <td>five</td>\n      <td>0.203338</td>\n    </tr>\n    <tr>\n      <th>2023-01-30</th>\n      <td>-0.323865</td>\n      <td>0.108125</td>\n      <td>-0.352725</td>\n      <td>-0.160106</td>\n      <td>six</td>\n      <td>-0.728571</td>\n    </tr>\n  </tbody>\n</table>\n</div>"
     },
     "execution_count": 119,
     "metadata": {},
     "output_type": "execute_result"
    }
   ],
   "source": [
    "#air_quality[\"london_mg_per_cubic\"] = air_quality[\"station_london\"] * 1.882\n",
    "df3[\"Summation\"] = df3[\"A\"] +df3[\"B\"] + df3[\"C\"] + df3[\"D\"]\n",
    "df3"
   ],
   "metadata": {
    "collapsed": false,
    "pycharm": {
     "name": "#%%\n"
    }
   }
  }
 ],
 "metadata": {
  "kernelspec": {
   "display_name": "Python 3",
   "language": "python",
   "name": "python3"
  },
  "language_info": {
   "codemirror_mode": {
    "name": "ipython",
    "version": 2
   },
   "file_extension": ".py",
   "mimetype": "text/x-python",
   "name": "python",
   "nbconvert_exporter": "python",
   "pygments_lexer": "ipython2",
   "version": "2.7.6"
  }
 },
 "nbformat": 4,
 "nbformat_minor": 0
}